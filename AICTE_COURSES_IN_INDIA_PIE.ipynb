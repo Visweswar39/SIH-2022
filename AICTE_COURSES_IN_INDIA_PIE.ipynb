{
 "cells": [
  {
   "cell_type": "code",
   "execution_count": 14,
   "id": "ed18feac",
   "metadata": {},
   "outputs": [],
   "source": [
    "import pandas as pd\n",
    "import numpy as np \n",
    "import plotly.offline as py\n",
    "import plotly.graph_objs as go"
   ]
  },
  {
   "cell_type": "code",
   "execution_count": 15,
   "id": "6710501f",
   "metadata": {},
   "outputs": [],
   "source": [
    "df = pd.read_csv(\"D:\\\\extrapolate-master\\\\extrapolate-master\\\\hackathon\\\\Plots\\\\aicte1.csv\")"
   ]
  },
  {
   "cell_type": "code",
   "execution_count": 16,
   "id": "b9e89264",
   "metadata": {},
   "outputs": [
    {
     "data": {
      "text/html": [
       "<div>\n",
       "<style scoped>\n",
       "    .dataframe tbody tr th:only-of-type {\n",
       "        vertical-align: middle;\n",
       "    }\n",
       "\n",
       "    .dataframe tbody tr th {\n",
       "        vertical-align: top;\n",
       "    }\n",
       "\n",
       "    .dataframe thead th {\n",
       "        text-align: right;\n",
       "    }\n",
       "</style>\n",
       "<table border=\"1\" class=\"dataframe\">\n",
       "  <thead>\n",
       "    <tr style=\"text-align: right;\">\n",
       "      <th></th>\n",
       "      <th>institution_type</th>\n",
       "      <th>level</th>\n",
       "      <th>program</th>\n",
       "      <th>state</th>\n",
       "      <th>minority</th>\n",
       "      <th>women</th>\n",
       "      <th>faculties</th>\n",
       "      <th>number_of_institutes</th>\n",
       "      <th>intake</th>\n",
       "      <th>enrollment</th>\n",
       "      <th>passed</th>\n",
       "      <th>placed</th>\n",
       "    </tr>\n",
       "  </thead>\n",
       "  <tbody>\n",
       "    <tr>\n",
       "      <th>0</th>\n",
       "      <td>Unaided - Private</td>\n",
       "      <td>UG</td>\n",
       "      <td>ENGINEERING AND TECHNOLOGY</td>\n",
       "      <td>Andhra Pradesh</td>\n",
       "      <td>0</td>\n",
       "      <td>1</td>\n",
       "      <td>4103.0</td>\n",
       "      <td>37</td>\n",
       "      <td>15630</td>\n",
       "      <td>5581</td>\n",
       "      <td>4737</td>\n",
       "      <td>1781</td>\n",
       "    </tr>\n",
       "    <tr>\n",
       "      <th>1</th>\n",
       "      <td>Unaided - Private</td>\n",
       "      <td>UG</td>\n",
       "      <td>ENGINEERING AND TECHNOLOGY</td>\n",
       "      <td>Andhra Pradesh</td>\n",
       "      <td>1</td>\n",
       "      <td>0</td>\n",
       "      <td>4476.0</td>\n",
       "      <td>12</td>\n",
       "      <td>5430</td>\n",
       "      <td>1979</td>\n",
       "      <td>827</td>\n",
       "      <td>303</td>\n",
       "    </tr>\n",
       "  </tbody>\n",
       "</table>\n",
       "</div>"
      ],
      "text/plain": [
       "    institution_type level                     program            state  \\\n",
       "0  Unaided - Private    UG  ENGINEERING AND TECHNOLOGY  Andhra Pradesh    \n",
       "1  Unaided - Private    UG  ENGINEERING AND TECHNOLOGY  Andhra Pradesh    \n",
       "\n",
       "   minority  women  faculties  number_of_institutes  intake  enrollment  \\\n",
       "0         0      1     4103.0                    37   15630        5581   \n",
       "1         1      0     4476.0                    12    5430        1979   \n",
       "\n",
       "   passed  placed  \n",
       "0    4737    1781  \n",
       "1     827     303  "
      ]
     },
     "execution_count": 16,
     "metadata": {},
     "output_type": "execute_result"
    }
   ],
   "source": [
    "df.head(2)"
   ]
  },
  {
   "cell_type": "code",
   "execution_count": 17,
   "id": "2dd5632b",
   "metadata": {},
   "outputs": [],
   "source": [
    "l=df['level'].value_counts().tolist()"
   ]
  },
  {
   "cell_type": "code",
   "execution_count": 18,
   "id": "496436e6",
   "metadata": {},
   "outputs": [],
   "source": [
    "levels = ['PG','UG','DIPLOMA']"
   ]
  },
  {
   "cell_type": "code",
   "execution_count": 19,
   "id": "5fc8e1e7",
   "metadata": {},
   "outputs": [
    {
     "data": {
      "text/plain": [
       "[2322, 1953, 1802]"
      ]
     },
     "execution_count": 19,
     "metadata": {},
     "output_type": "execute_result"
    }
   ],
   "source": [
    "l"
   ]
  },
  {
   "cell_type": "code",
   "execution_count": 20,
   "id": "ce178957",
   "metadata": {},
   "outputs": [
    {
     "data": {
      "text/plain": [
       "PG         2322\n",
       "UG         1953\n",
       "DIPLOMA    1802\n",
       "Name: level, dtype: int64"
      ]
     },
     "execution_count": 20,
     "metadata": {},
     "output_type": "execute_result"
    }
   ],
   "source": [
    "df['level'].value_counts()"
   ]
  },
  {
   "cell_type": "code",
   "execution_count": 23,
   "id": "5dc1ef89",
   "metadata": {},
   "outputs": [],
   "source": [
    "trace = go.Pie(labels = levels, values = l)\n",
    "data = [trace]\n",
    "layout = go.Layout(title='AICTE COURSES IN INDIA')\n",
    "fig = go.Figure(data = data,layout = layout)\n",
    "plt = py.plot(fig,filename='AICTE_COURSES_IN_INDIA_PIE',output_type='div')"
   ]
  },
  {
   "cell_type": "code",
   "execution_count": null,
   "id": "d47052c0",
   "metadata": {},
   "outputs": [],
   "source": []
  }
 ],
 "metadata": {
  "kernelspec": {
   "display_name": "Python 3",
   "language": "python",
   "name": "python3"
  },
  "language_info": {
   "codemirror_mode": {
    "name": "ipython",
    "version": 3
   },
   "file_extension": ".py",
   "mimetype": "text/x-python",
   "name": "python",
   "nbconvert_exporter": "python",
   "pygments_lexer": "ipython3",
   "version": "3.8.8"
  }
 },
 "nbformat": 4,
 "nbformat_minor": 5
}
