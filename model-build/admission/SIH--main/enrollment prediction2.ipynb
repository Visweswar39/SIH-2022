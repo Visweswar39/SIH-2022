{
 "cells": [
  {
   "cell_type": "code",
   "execution_count": 102,
   "id": "4f9f139a",
   "metadata": {},
   "outputs": [],
   "source": [
    "import pandas as pd\n",
    "import numpy as np"
   ]
  },
  {
   "cell_type": "code",
   "execution_count": 103,
   "id": "32eec79c",
   "metadata": {},
   "outputs": [],
   "source": [
    "dftrain = pd.read_excel(\"C:\\\\Users\\\\Viswes\\\\hackathon\\\\AICTE3 datasets\\\\AICTE train.xlsx\")"
   ]
  },
  {
   "cell_type": "code",
   "execution_count": 104,
   "id": "5d8f4f65",
   "metadata": {},
   "outputs": [
    {
     "data": {
      "text/html": [
       "<div>\n",
       "<style scoped>\n",
       "    .dataframe tbody tr th:only-of-type {\n",
       "        vertical-align: middle;\n",
       "    }\n",
       "\n",
       "    .dataframe tbody tr th {\n",
       "        vertical-align: top;\n",
       "    }\n",
       "\n",
       "    .dataframe thead th {\n",
       "        text-align: right;\n",
       "    }\n",
       "</style>\n",
       "<table border=\"1\" class=\"dataframe\">\n",
       "  <thead>\n",
       "    <tr style=\"text-align: right;\">\n",
       "      <th></th>\n",
       "      <th>YEAR</th>\n",
       "      <th>STATE</th>\n",
       "      <th>CITY</th>\n",
       "      <th>CITY ID</th>\n",
       "      <th>LEVEL</th>\n",
       "      <th>PROGRAMME</th>\n",
       "      <th>COURSE</th>\n",
       "      <th>COURSE ID</th>\n",
       "      <th>CUTOFF LOG10</th>\n",
       "      <th>COLLEGE RANK</th>\n",
       "      <th>INTAKE</th>\n",
       "      <th>ENROLLED STUDENTS</th>\n",
       "      <th>PLACED STUDENTS</th>\n",
       "      <th>CUTOFF RANK</th>\n",
       "    </tr>\n",
       "  </thead>\n",
       "  <tbody>\n",
       "    <tr>\n",
       "      <th>0</th>\n",
       "      <td>2015</td>\n",
       "      <td>Andhra Pradesh</td>\n",
       "      <td>Visakhapatnam</td>\n",
       "      <td>1</td>\n",
       "      <td>UG</td>\n",
       "      <td>Engineering and Technolgy</td>\n",
       "      <td>Computer Science and Technology</td>\n",
       "      <td>1</td>\n",
       "      <td>3.54</td>\n",
       "      <td>3</td>\n",
       "      <td>120</td>\n",
       "      <td>126</td>\n",
       "      <td>84</td>\n",
       "      <td>3490</td>\n",
       "    </tr>\n",
       "    <tr>\n",
       "      <th>1</th>\n",
       "      <td>2016</td>\n",
       "      <td>Andhra Pradesh</td>\n",
       "      <td>Visakhapatnam</td>\n",
       "      <td>1</td>\n",
       "      <td>UG</td>\n",
       "      <td>Engineering and Technolgy</td>\n",
       "      <td>Computer Science and Technology</td>\n",
       "      <td>1</td>\n",
       "      <td>3.50</td>\n",
       "      <td>3</td>\n",
       "      <td>240</td>\n",
       "      <td>235</td>\n",
       "      <td>98</td>\n",
       "      <td>3193</td>\n",
       "    </tr>\n",
       "    <tr>\n",
       "      <th>2</th>\n",
       "      <td>2017</td>\n",
       "      <td>Andhra Pradesh</td>\n",
       "      <td>Visakhapatnam</td>\n",
       "      <td>1</td>\n",
       "      <td>UG</td>\n",
       "      <td>Engineering and Technolgy</td>\n",
       "      <td>Computer Science and Technology</td>\n",
       "      <td>1</td>\n",
       "      <td>3.66</td>\n",
       "      <td>3</td>\n",
       "      <td>240</td>\n",
       "      <td>244</td>\n",
       "      <td>91</td>\n",
       "      <td>4601</td>\n",
       "    </tr>\n",
       "    <tr>\n",
       "      <th>3</th>\n",
       "      <td>2015</td>\n",
       "      <td>Andhra Pradesh</td>\n",
       "      <td>Visakhapatnam</td>\n",
       "      <td>1</td>\n",
       "      <td>UG</td>\n",
       "      <td>Engineering and Technolgy</td>\n",
       "      <td>Computer Science and Technology</td>\n",
       "      <td>1</td>\n",
       "      <td>3.78</td>\n",
       "      <td>3</td>\n",
       "      <td>120</td>\n",
       "      <td>119</td>\n",
       "      <td>68</td>\n",
       "      <td>6049</td>\n",
       "    </tr>\n",
       "    <tr>\n",
       "      <th>4</th>\n",
       "      <td>2016</td>\n",
       "      <td>Andhra Pradesh</td>\n",
       "      <td>Visakhapatnam</td>\n",
       "      <td>1</td>\n",
       "      <td>UG</td>\n",
       "      <td>Engineering and Technolgy</td>\n",
       "      <td>Computer Science and Technology</td>\n",
       "      <td>1</td>\n",
       "      <td>3.91</td>\n",
       "      <td>3</td>\n",
       "      <td>180</td>\n",
       "      <td>176</td>\n",
       "      <td>76</td>\n",
       "      <td>8172</td>\n",
       "    </tr>\n",
       "  </tbody>\n",
       "</table>\n",
       "</div>"
      ],
      "text/plain": [
       "   YEAR          STATE            CITY  CITY ID LEVEL  \\\n",
       "0  2015  Andhra Pradesh  Visakhapatnam        1    UG   \n",
       "1  2016  Andhra Pradesh  Visakhapatnam        1    UG   \n",
       "2  2017  Andhra Pradesh  Visakhapatnam        1    UG   \n",
       "3  2015  Andhra Pradesh  Visakhapatnam        1    UG   \n",
       "4  2016  Andhra Pradesh  Visakhapatnam        1    UG   \n",
       "\n",
       "                   PROGRAMME                           COURSE  COURSE ID  \\\n",
       "0  Engineering and Technolgy  Computer Science and Technology          1   \n",
       "1  Engineering and Technolgy  Computer Science and Technology          1   \n",
       "2  Engineering and Technolgy  Computer Science and Technology          1   \n",
       "3  Engineering and Technolgy  Computer Science and Technology          1   \n",
       "4  Engineering and Technolgy  Computer Science and Technology          1   \n",
       "\n",
       "   CUTOFF LOG10  COLLEGE RANK  INTAKE  ENROLLED STUDENTS  PLACED STUDENTS  \\\n",
       "0          3.54             3     120                126               84   \n",
       "1          3.50             3     240                235               98   \n",
       "2          3.66             3     240                244               91   \n",
       "3          3.78             3     120                119               68   \n",
       "4          3.91             3     180                176               76   \n",
       "\n",
       "   CUTOFF RANK  \n",
       "0         3490  \n",
       "1         3193  \n",
       "2         4601  \n",
       "3         6049  \n",
       "4         8172  "
      ]
     },
     "execution_count": 104,
     "metadata": {},
     "output_type": "execute_result"
    }
   ],
   "source": [
    "dftrain.head()"
   ]
  },
  {
   "cell_type": "code",
   "execution_count": 105,
   "id": "c60ccfff",
   "metadata": {},
   "outputs": [],
   "source": [
    "dftrain.drop(['CITY','CITY ID','LEVEL','PROGRAMME','COURSE','COURSE ID','STATE ','PLACED STUDENTS'],axis=1,inplace=True)\n"
   ]
  },
  {
   "cell_type": "code",
   "execution_count": 106,
   "id": "35c07c72",
   "metadata": {},
   "outputs": [],
   "source": [
    "#dftrain.drop([3,4,5],axis=0,inplace =True)"
   ]
  },
  {
   "cell_type": "code",
   "execution_count": 107,
   "id": "ce0b3dc8",
   "metadata": {},
   "outputs": [
    {
     "data": {
      "text/html": [
       "<div>\n",
       "<style scoped>\n",
       "    .dataframe tbody tr th:only-of-type {\n",
       "        vertical-align: middle;\n",
       "    }\n",
       "\n",
       "    .dataframe tbody tr th {\n",
       "        vertical-align: top;\n",
       "    }\n",
       "\n",
       "    .dataframe thead th {\n",
       "        text-align: right;\n",
       "    }\n",
       "</style>\n",
       "<table border=\"1\" class=\"dataframe\">\n",
       "  <thead>\n",
       "    <tr style=\"text-align: right;\">\n",
       "      <th></th>\n",
       "      <th>YEAR</th>\n",
       "      <th>CUTOFF LOG10</th>\n",
       "      <th>COLLEGE RANK</th>\n",
       "      <th>INTAKE</th>\n",
       "      <th>ENROLLED STUDENTS</th>\n",
       "      <th>CUTOFF RANK</th>\n",
       "    </tr>\n",
       "  </thead>\n",
       "  <tbody>\n",
       "    <tr>\n",
       "      <th>0</th>\n",
       "      <td>2015</td>\n",
       "      <td>3.54</td>\n",
       "      <td>3</td>\n",
       "      <td>120</td>\n",
       "      <td>126</td>\n",
       "      <td>3490</td>\n",
       "    </tr>\n",
       "    <tr>\n",
       "      <th>1</th>\n",
       "      <td>2016</td>\n",
       "      <td>3.50</td>\n",
       "      <td>3</td>\n",
       "      <td>240</td>\n",
       "      <td>235</td>\n",
       "      <td>3193</td>\n",
       "    </tr>\n",
       "    <tr>\n",
       "      <th>2</th>\n",
       "      <td>2017</td>\n",
       "      <td>3.66</td>\n",
       "      <td>3</td>\n",
       "      <td>240</td>\n",
       "      <td>244</td>\n",
       "      <td>4601</td>\n",
       "    </tr>\n",
       "    <tr>\n",
       "      <th>3</th>\n",
       "      <td>2015</td>\n",
       "      <td>3.78</td>\n",
       "      <td>3</td>\n",
       "      <td>120</td>\n",
       "      <td>119</td>\n",
       "      <td>6049</td>\n",
       "    </tr>\n",
       "    <tr>\n",
       "      <th>4</th>\n",
       "      <td>2016</td>\n",
       "      <td>3.91</td>\n",
       "      <td>3</td>\n",
       "      <td>180</td>\n",
       "      <td>176</td>\n",
       "      <td>8172</td>\n",
       "    </tr>\n",
       "  </tbody>\n",
       "</table>\n",
       "</div>"
      ],
      "text/plain": [
       "   YEAR  CUTOFF LOG10  COLLEGE RANK  INTAKE  ENROLLED STUDENTS  CUTOFF RANK\n",
       "0  2015          3.54             3     120                126         3490\n",
       "1  2016          3.50             3     240                235         3193\n",
       "2  2017          3.66             3     240                244         4601\n",
       "3  2015          3.78             3     120                119         6049\n",
       "4  2016          3.91             3     180                176         8172"
      ]
     },
     "execution_count": 107,
     "metadata": {},
     "output_type": "execute_result"
    }
   ],
   "source": [
    "dftrain.head()"
   ]
  },
  {
   "cell_type": "code",
   "execution_count": 108,
   "id": "7c880070",
   "metadata": {},
   "outputs": [],
   "source": [
    "X = dftrain.iloc[:,0:4]\n",
    "y = dftrain.iloc[:,4]"
   ]
  },
  {
   "cell_type": "code",
   "execution_count": 109,
   "id": "c63f58d1",
   "metadata": {},
   "outputs": [
    {
     "data": {
      "text/html": [
       "<div>\n",
       "<style scoped>\n",
       "    .dataframe tbody tr th:only-of-type {\n",
       "        vertical-align: middle;\n",
       "    }\n",
       "\n",
       "    .dataframe tbody tr th {\n",
       "        vertical-align: top;\n",
       "    }\n",
       "\n",
       "    .dataframe thead th {\n",
       "        text-align: right;\n",
       "    }\n",
       "</style>\n",
       "<table border=\"1\" class=\"dataframe\">\n",
       "  <thead>\n",
       "    <tr style=\"text-align: right;\">\n",
       "      <th></th>\n",
       "      <th>YEAR</th>\n",
       "      <th>CUTOFF LOG10</th>\n",
       "      <th>COLLEGE RANK</th>\n",
       "      <th>INTAKE</th>\n",
       "    </tr>\n",
       "  </thead>\n",
       "  <tbody>\n",
       "    <tr>\n",
       "      <th>0</th>\n",
       "      <td>2015</td>\n",
       "      <td>3.54</td>\n",
       "      <td>3</td>\n",
       "      <td>120</td>\n",
       "    </tr>\n",
       "    <tr>\n",
       "      <th>1</th>\n",
       "      <td>2016</td>\n",
       "      <td>3.50</td>\n",
       "      <td>3</td>\n",
       "      <td>240</td>\n",
       "    </tr>\n",
       "    <tr>\n",
       "      <th>2</th>\n",
       "      <td>2017</td>\n",
       "      <td>3.66</td>\n",
       "      <td>3</td>\n",
       "      <td>240</td>\n",
       "    </tr>\n",
       "    <tr>\n",
       "      <th>3</th>\n",
       "      <td>2015</td>\n",
       "      <td>3.78</td>\n",
       "      <td>3</td>\n",
       "      <td>120</td>\n",
       "    </tr>\n",
       "    <tr>\n",
       "      <th>4</th>\n",
       "      <td>2016</td>\n",
       "      <td>3.91</td>\n",
       "      <td>3</td>\n",
       "      <td>180</td>\n",
       "    </tr>\n",
       "    <tr>\n",
       "      <th>5</th>\n",
       "      <td>2017</td>\n",
       "      <td>3.69</td>\n",
       "      <td>3</td>\n",
       "      <td>180</td>\n",
       "    </tr>\n",
       "    <tr>\n",
       "      <th>6</th>\n",
       "      <td>2015</td>\n",
       "      <td>5.11</td>\n",
       "      <td>6</td>\n",
       "      <td>120</td>\n",
       "    </tr>\n",
       "    <tr>\n",
       "      <th>7</th>\n",
       "      <td>2016</td>\n",
       "      <td>5.07</td>\n",
       "      <td>6</td>\n",
       "      <td>120</td>\n",
       "    </tr>\n",
       "    <tr>\n",
       "      <th>8</th>\n",
       "      <td>2017</td>\n",
       "      <td>4.81</td>\n",
       "      <td>6</td>\n",
       "      <td>120</td>\n",
       "    </tr>\n",
       "    <tr>\n",
       "      <th>9</th>\n",
       "      <td>2015</td>\n",
       "      <td>5.12</td>\n",
       "      <td>5</td>\n",
       "      <td>120</td>\n",
       "    </tr>\n",
       "    <tr>\n",
       "      <th>10</th>\n",
       "      <td>2016</td>\n",
       "      <td>5.09</td>\n",
       "      <td>5</td>\n",
       "      <td>180</td>\n",
       "    </tr>\n",
       "    <tr>\n",
       "      <th>11</th>\n",
       "      <td>2017</td>\n",
       "      <td>4.79</td>\n",
       "      <td>5</td>\n",
       "      <td>180</td>\n",
       "    </tr>\n",
       "    <tr>\n",
       "      <th>12</th>\n",
       "      <td>2015</td>\n",
       "      <td>5.10</td>\n",
       "      <td>4</td>\n",
       "      <td>180</td>\n",
       "    </tr>\n",
       "    <tr>\n",
       "      <th>13</th>\n",
       "      <td>2016</td>\n",
       "      <td>4.74</td>\n",
       "      <td>4</td>\n",
       "      <td>180</td>\n",
       "    </tr>\n",
       "    <tr>\n",
       "      <th>14</th>\n",
       "      <td>2017</td>\n",
       "      <td>4.83</td>\n",
       "      <td>4</td>\n",
       "      <td>180</td>\n",
       "    </tr>\n",
       "    <tr>\n",
       "      <th>15</th>\n",
       "      <td>2015</td>\n",
       "      <td>5.12</td>\n",
       "      <td>6</td>\n",
       "      <td>120</td>\n",
       "    </tr>\n",
       "    <tr>\n",
       "      <th>16</th>\n",
       "      <td>2016</td>\n",
       "      <td>4.96</td>\n",
       "      <td>6</td>\n",
       "      <td>120</td>\n",
       "    </tr>\n",
       "    <tr>\n",
       "      <th>17</th>\n",
       "      <td>2017</td>\n",
       "      <td>5.11</td>\n",
       "      <td>6</td>\n",
       "      <td>120</td>\n",
       "    </tr>\n",
       "  </tbody>\n",
       "</table>\n",
       "</div>"
      ],
      "text/plain": [
       "    YEAR  CUTOFF LOG10  COLLEGE RANK  INTAKE\n",
       "0   2015          3.54             3     120\n",
       "1   2016          3.50             3     240\n",
       "2   2017          3.66             3     240\n",
       "3   2015          3.78             3     120\n",
       "4   2016          3.91             3     180\n",
       "5   2017          3.69             3     180\n",
       "6   2015          5.11             6     120\n",
       "7   2016          5.07             6     120\n",
       "8   2017          4.81             6     120\n",
       "9   2015          5.12             5     120\n",
       "10  2016          5.09             5     180\n",
       "11  2017          4.79             5     180\n",
       "12  2015          5.10             4     180\n",
       "13  2016          4.74             4     180\n",
       "14  2017          4.83             4     180\n",
       "15  2015          5.12             6     120\n",
       "16  2016          4.96             6     120\n",
       "17  2017          5.11             6     120"
      ]
     },
     "execution_count": 109,
     "metadata": {},
     "output_type": "execute_result"
    }
   ],
   "source": [
    "X"
   ]
  },
  {
   "cell_type": "code",
   "execution_count": null,
   "id": "c066f92c",
   "metadata": {},
   "outputs": [],
   "source": []
  },
  {
   "cell_type": "code",
   "execution_count": 110,
   "id": "41951ab4",
   "metadata": {},
   "outputs": [
    {
     "data": {
      "text/plain": [
       "LinearRegression()"
      ]
     },
     "execution_count": 110,
     "metadata": {},
     "output_type": "execute_result"
    }
   ],
   "source": [
    "from sklearn.linear_model import LinearRegression\n",
    "reg = LinearRegression()\n",
    "reg.fit(X,y)"
   ]
  },
  {
   "cell_type": "code",
   "execution_count": 111,
   "id": "ba3a7b87",
   "metadata": {},
   "outputs": [],
   "source": [
    "dftest = pd.read_excel(\"C:\\\\Users\\\\Viswes\\\\hackathon\\\\AICTE3 datasets\\\\AICTE3 test.xlsx\")"
   ]
  },
  {
   "cell_type": "code",
   "execution_count": 112,
   "id": "5fb22979",
   "metadata": {},
   "outputs": [],
   "source": [
    "dftest.drop(['CITY','CITY ID','LEVEL','PROGRAMME','COURSE','COURSE ID','STATE ','PLACED STUDENTS'],axis=1,inplace=True)\n"
   ]
  },
  {
   "cell_type": "code",
   "execution_count": 113,
   "id": "d9aef0bb",
   "metadata": {},
   "outputs": [],
   "source": [
    "#dftest.drop(2,axis=0,inplace=True)\n",
    "dftest.drop(4,axis=0,inplace=True)"
   ]
  },
  {
   "cell_type": "code",
   "execution_count": 114,
   "id": "0ef217ec",
   "metadata": {},
   "outputs": [],
   "source": [
    "X_test = dftest.iloc[:,0:4]\n",
    "y_test = dftest.iloc[:,4]"
   ]
  },
  {
   "cell_type": "code",
   "execution_count": 115,
   "id": "55069977",
   "metadata": {},
   "outputs": [],
   "source": [
    "y_pred = reg.predict(X_test)"
   ]
  },
  {
   "cell_type": "code",
   "execution_count": 116,
   "id": "de0b1810",
   "metadata": {},
   "outputs": [
    {
     "data": {
      "text/html": [
       "<div>\n",
       "<style scoped>\n",
       "    .dataframe tbody tr th:only-of-type {\n",
       "        vertical-align: middle;\n",
       "    }\n",
       "\n",
       "    .dataframe tbody tr th {\n",
       "        vertical-align: top;\n",
       "    }\n",
       "\n",
       "    .dataframe thead th {\n",
       "        text-align: right;\n",
       "    }\n",
       "</style>\n",
       "<table border=\"1\" class=\"dataframe\">\n",
       "  <thead>\n",
       "    <tr style=\"text-align: right;\">\n",
       "      <th></th>\n",
       "      <th>YEAR</th>\n",
       "      <th>CUTOFF LOG10</th>\n",
       "      <th>COLLEGE RANK</th>\n",
       "      <th>INTAKE</th>\n",
       "      <th>ENROLLED STUDENTS</th>\n",
       "      <th>CUTOFF RANK</th>\n",
       "    </tr>\n",
       "  </thead>\n",
       "  <tbody>\n",
       "    <tr>\n",
       "      <th>0</th>\n",
       "      <td>2018</td>\n",
       "      <td>3.47</td>\n",
       "      <td>3</td>\n",
       "      <td>240</td>\n",
       "      <td>234</td>\n",
       "      <td>2985</td>\n",
       "    </tr>\n",
       "    <tr>\n",
       "      <th>1</th>\n",
       "      <td>2018</td>\n",
       "      <td>3.69</td>\n",
       "      <td>3</td>\n",
       "      <td>180</td>\n",
       "      <td>179</td>\n",
       "      <td>4870</td>\n",
       "    </tr>\n",
       "    <tr>\n",
       "      <th>2</th>\n",
       "      <td>2018</td>\n",
       "      <td>4.77</td>\n",
       "      <td>6</td>\n",
       "      <td>120</td>\n",
       "      <td>104</td>\n",
       "      <td>58707</td>\n",
       "    </tr>\n",
       "    <tr>\n",
       "      <th>3</th>\n",
       "      <td>2018</td>\n",
       "      <td>4.79</td>\n",
       "      <td>5</td>\n",
       "      <td>180</td>\n",
       "      <td>130</td>\n",
       "      <td>61550</td>\n",
       "    </tr>\n",
       "    <tr>\n",
       "      <th>4</th>\n",
       "      <td>2018</td>\n",
       "      <td>4.81</td>\n",
       "      <td>4</td>\n",
       "      <td>180</td>\n",
       "      <td>53</td>\n",
       "      <td>65016</td>\n",
       "    </tr>\n",
       "  </tbody>\n",
       "</table>\n",
       "</div>"
      ],
      "text/plain": [
       "   YEAR  CUTOFF LOG10  COLLEGE RANK  INTAKE  ENROLLED STUDENTS  CUTOFF RANK\n",
       "0  2018          3.47             3     240                234         2985\n",
       "1  2018          3.69             3     180                179         4870\n",
       "2  2018          4.77             6     120                104        58707\n",
       "3  2018          4.79             5     180                130        61550\n",
       "4  2018          4.81             4     180                 53        65016"
      ]
     },
     "execution_count": 116,
     "metadata": {},
     "output_type": "execute_result"
    }
   ],
   "source": [
    "dftest.head()"
   ]
  },
  {
   "cell_type": "code",
   "execution_count": 117,
   "id": "f7e2a12e",
   "metadata": {},
   "outputs": [
    {
     "data": {
      "text/plain": [
       "array([251.004818  , 178.33700544,  84.17735438, 123.26399751,\n",
       "       106.70293965,  69.47816711])"
      ]
     },
     "execution_count": 117,
     "metadata": {},
     "output_type": "execute_result"
    }
   ],
   "source": [
    "y_pred"
   ]
  },
  {
   "cell_type": "code",
   "execution_count": 118,
   "id": "e53e91ce",
   "metadata": {},
   "outputs": [
    {
     "data": {
      "text/plain": [
       "0    234\n",
       "1    179\n",
       "2    104\n",
       "3    130\n",
       "4     53\n",
       "5     95\n",
       "Name: ENROLLED STUDENTS, dtype: int64"
      ]
     },
     "execution_count": 118,
     "metadata": {},
     "output_type": "execute_result"
    }
   ],
   "source": [
    "y_test"
   ]
  },
  {
   "cell_type": "code",
   "execution_count": 119,
   "id": "49c2379f",
   "metadata": {},
   "outputs": [
    {
     "name": "stdout",
     "output_type": "stream",
     "text": [
      "mae= 20.575205536202702\n",
      "mse= 710.5473478466339\n",
      "r2_score= 0.797078269969309\n"
     ]
    }
   ],
   "source": [
    "from sklearn.metrics import mean_absolute_error,mean_squared_error,r2_score\n",
    "print('mae=',mean_absolute_error(y_test,y_pred))\n",
    "print('mse=',mean_squared_error(y_test,y_pred))\n",
    "print('r2_score=',r2_score(y_test,y_pred))"
   ]
  },
  {
   "cell_type": "code",
   "execution_count": 120,
   "id": "88cc6be5",
   "metadata": {},
   "outputs": [
    {
     "data": {
      "text/html": [
       "<div>\n",
       "<style scoped>\n",
       "    .dataframe tbody tr th:only-of-type {\n",
       "        vertical-align: middle;\n",
       "    }\n",
       "\n",
       "    .dataframe tbody tr th {\n",
       "        vertical-align: top;\n",
       "    }\n",
       "\n",
       "    .dataframe thead th {\n",
       "        text-align: right;\n",
       "    }\n",
       "</style>\n",
       "<table border=\"1\" class=\"dataframe\">\n",
       "  <thead>\n",
       "    <tr style=\"text-align: right;\">\n",
       "      <th></th>\n",
       "      <th>YEAR</th>\n",
       "      <th>CUTOFF LOG10</th>\n",
       "      <th>COLLEGE RANK</th>\n",
       "      <th>INTAKE</th>\n",
       "      <th>ENROLLED STUDENTS</th>\n",
       "      <th>CUTOFF RANK</th>\n",
       "    </tr>\n",
       "  </thead>\n",
       "  <tbody>\n",
       "    <tr>\n",
       "      <th>0</th>\n",
       "      <td>2015</td>\n",
       "      <td>3.54</td>\n",
       "      <td>3</td>\n",
       "      <td>120</td>\n",
       "      <td>126</td>\n",
       "      <td>3490</td>\n",
       "    </tr>\n",
       "    <tr>\n",
       "      <th>1</th>\n",
       "      <td>2016</td>\n",
       "      <td>3.50</td>\n",
       "      <td>3</td>\n",
       "      <td>240</td>\n",
       "      <td>235</td>\n",
       "      <td>3193</td>\n",
       "    </tr>\n",
       "    <tr>\n",
       "      <th>2</th>\n",
       "      <td>2017</td>\n",
       "      <td>3.66</td>\n",
       "      <td>3</td>\n",
       "      <td>240</td>\n",
       "      <td>244</td>\n",
       "      <td>4601</td>\n",
       "    </tr>\n",
       "    <tr>\n",
       "      <th>3</th>\n",
       "      <td>2015</td>\n",
       "      <td>3.78</td>\n",
       "      <td>3</td>\n",
       "      <td>120</td>\n",
       "      <td>119</td>\n",
       "      <td>6049</td>\n",
       "    </tr>\n",
       "    <tr>\n",
       "      <th>4</th>\n",
       "      <td>2016</td>\n",
       "      <td>3.91</td>\n",
       "      <td>3</td>\n",
       "      <td>180</td>\n",
       "      <td>176</td>\n",
       "      <td>8172</td>\n",
       "    </tr>\n",
       "    <tr>\n",
       "      <th>5</th>\n",
       "      <td>2017</td>\n",
       "      <td>3.69</td>\n",
       "      <td>3</td>\n",
       "      <td>180</td>\n",
       "      <td>179</td>\n",
       "      <td>4870</td>\n",
       "    </tr>\n",
       "    <tr>\n",
       "      <th>6</th>\n",
       "      <td>2015</td>\n",
       "      <td>5.11</td>\n",
       "      <td>6</td>\n",
       "      <td>120</td>\n",
       "      <td>49</td>\n",
       "      <td>129514</td>\n",
       "    </tr>\n",
       "    <tr>\n",
       "      <th>7</th>\n",
       "      <td>2016</td>\n",
       "      <td>5.07</td>\n",
       "      <td>6</td>\n",
       "      <td>120</td>\n",
       "      <td>58</td>\n",
       "      <td>116172</td>\n",
       "    </tr>\n",
       "    <tr>\n",
       "      <th>8</th>\n",
       "      <td>2017</td>\n",
       "      <td>4.81</td>\n",
       "      <td>6</td>\n",
       "      <td>120</td>\n",
       "      <td>59</td>\n",
       "      <td>64219</td>\n",
       "    </tr>\n",
       "    <tr>\n",
       "      <th>9</th>\n",
       "      <td>2015</td>\n",
       "      <td>5.12</td>\n",
       "      <td>5</td>\n",
       "      <td>120</td>\n",
       "      <td>51</td>\n",
       "      <td>130708</td>\n",
       "    </tr>\n",
       "    <tr>\n",
       "      <th>10</th>\n",
       "      <td>2016</td>\n",
       "      <td>5.09</td>\n",
       "      <td>5</td>\n",
       "      <td>180</td>\n",
       "      <td>130</td>\n",
       "      <td>124267</td>\n",
       "    </tr>\n",
       "    <tr>\n",
       "      <th>11</th>\n",
       "      <td>2017</td>\n",
       "      <td>4.79</td>\n",
       "      <td>5</td>\n",
       "      <td>180</td>\n",
       "      <td>130</td>\n",
       "      <td>61550</td>\n",
       "    </tr>\n",
       "    <tr>\n",
       "      <th>12</th>\n",
       "      <td>2015</td>\n",
       "      <td>5.10</td>\n",
       "      <td>4</td>\n",
       "      <td>180</td>\n",
       "      <td>75</td>\n",
       "      <td>126894</td>\n",
       "    </tr>\n",
       "    <tr>\n",
       "      <th>13</th>\n",
       "      <td>2016</td>\n",
       "      <td>4.74</td>\n",
       "      <td>4</td>\n",
       "      <td>180</td>\n",
       "      <td>75</td>\n",
       "      <td>55326</td>\n",
       "    </tr>\n",
       "    <tr>\n",
       "      <th>14</th>\n",
       "      <td>2017</td>\n",
       "      <td>4.83</td>\n",
       "      <td>4</td>\n",
       "      <td>180</td>\n",
       "      <td>90</td>\n",
       "      <td>68172</td>\n",
       "    </tr>\n",
       "    <tr>\n",
       "      <th>15</th>\n",
       "      <td>2015</td>\n",
       "      <td>5.12</td>\n",
       "      <td>6</td>\n",
       "      <td>120</td>\n",
       "      <td>47</td>\n",
       "      <td>130716</td>\n",
       "    </tr>\n",
       "    <tr>\n",
       "      <th>16</th>\n",
       "      <td>2016</td>\n",
       "      <td>4.96</td>\n",
       "      <td>6</td>\n",
       "      <td>120</td>\n",
       "      <td>70</td>\n",
       "      <td>90652</td>\n",
       "    </tr>\n",
       "    <tr>\n",
       "      <th>17</th>\n",
       "      <td>2017</td>\n",
       "      <td>5.11</td>\n",
       "      <td>6</td>\n",
       "      <td>120</td>\n",
       "      <td>70</td>\n",
       "      <td>129287</td>\n",
       "    </tr>\n",
       "  </tbody>\n",
       "</table>\n",
       "</div>"
      ],
      "text/plain": [
       "    YEAR  CUTOFF LOG10  COLLEGE RANK  INTAKE  ENROLLED STUDENTS  CUTOFF RANK\n",
       "0   2015          3.54             3     120                126         3490\n",
       "1   2016          3.50             3     240                235         3193\n",
       "2   2017          3.66             3     240                244         4601\n",
       "3   2015          3.78             3     120                119         6049\n",
       "4   2016          3.91             3     180                176         8172\n",
       "5   2017          3.69             3     180                179         4870\n",
       "6   2015          5.11             6     120                 49       129514\n",
       "7   2016          5.07             6     120                 58       116172\n",
       "8   2017          4.81             6     120                 59        64219\n",
       "9   2015          5.12             5     120                 51       130708\n",
       "10  2016          5.09             5     180                130       124267\n",
       "11  2017          4.79             5     180                130        61550\n",
       "12  2015          5.10             4     180                 75       126894\n",
       "13  2016          4.74             4     180                 75        55326\n",
       "14  2017          4.83             4     180                 90        68172\n",
       "15  2015          5.12             6     120                 47       130716\n",
       "16  2016          4.96             6     120                 70        90652\n",
       "17  2017          5.11             6     120                 70       129287"
      ]
     },
     "execution_count": 120,
     "metadata": {},
     "output_type": "execute_result"
    }
   ],
   "source": [
    "dftrain"
   ]
  },
  {
   "cell_type": "code",
   "execution_count": 121,
   "id": "6e076984",
   "metadata": {},
   "outputs": [
    {
     "data": {
      "text/plain": [
       "-2157.791812061869"
      ]
     },
     "execution_count": 121,
     "metadata": {},
     "output_type": "execute_result"
    }
   ],
   "source": [
    "reg.intercept_"
   ]
  },
  {
   "cell_type": "code",
   "execution_count": 122,
   "id": "89f55103",
   "metadata": {},
   "outputs": [
    {
     "data": {
      "text/plain": [
       "array([  1.19406248, -77.36414355,  15.01377499,   0.92746168])"
      ]
     },
     "execution_count": 122,
     "metadata": {},
     "output_type": "execute_result"
    }
   ],
   "source": [
    "reg.coef_"
   ]
  },
  {
   "cell_type": "code",
   "execution_count": 123,
   "id": "7cd3e94e",
   "metadata": {},
   "outputs": [
    {
     "data": {
      "text/html": [
       "<div>\n",
       "<style scoped>\n",
       "    .dataframe tbody tr th:only-of-type {\n",
       "        vertical-align: middle;\n",
       "    }\n",
       "\n",
       "    .dataframe tbody tr th {\n",
       "        vertical-align: top;\n",
       "    }\n",
       "\n",
       "    .dataframe thead th {\n",
       "        text-align: right;\n",
       "    }\n",
       "</style>\n",
       "<table border=\"1\" class=\"dataframe\">\n",
       "  <thead>\n",
       "    <tr style=\"text-align: right;\">\n",
       "      <th></th>\n",
       "      <th>YEAR</th>\n",
       "      <th>CUTOFF LOG10</th>\n",
       "      <th>COLLEGE RANK</th>\n",
       "      <th>INTAKE</th>\n",
       "    </tr>\n",
       "  </thead>\n",
       "  <tbody>\n",
       "    <tr>\n",
       "      <th>0</th>\n",
       "      <td>2015</td>\n",
       "      <td>3.54</td>\n",
       "      <td>3</td>\n",
       "      <td>120</td>\n",
       "    </tr>\n",
       "    <tr>\n",
       "      <th>1</th>\n",
       "      <td>2016</td>\n",
       "      <td>3.50</td>\n",
       "      <td>3</td>\n",
       "      <td>240</td>\n",
       "    </tr>\n",
       "    <tr>\n",
       "      <th>2</th>\n",
       "      <td>2017</td>\n",
       "      <td>3.66</td>\n",
       "      <td>3</td>\n",
       "      <td>240</td>\n",
       "    </tr>\n",
       "    <tr>\n",
       "      <th>3</th>\n",
       "      <td>2015</td>\n",
       "      <td>3.78</td>\n",
       "      <td>3</td>\n",
       "      <td>120</td>\n",
       "    </tr>\n",
       "    <tr>\n",
       "      <th>4</th>\n",
       "      <td>2016</td>\n",
       "      <td>3.91</td>\n",
       "      <td>3</td>\n",
       "      <td>180</td>\n",
       "    </tr>\n",
       "    <tr>\n",
       "      <th>5</th>\n",
       "      <td>2017</td>\n",
       "      <td>3.69</td>\n",
       "      <td>3</td>\n",
       "      <td>180</td>\n",
       "    </tr>\n",
       "    <tr>\n",
       "      <th>6</th>\n",
       "      <td>2015</td>\n",
       "      <td>5.11</td>\n",
       "      <td>6</td>\n",
       "      <td>120</td>\n",
       "    </tr>\n",
       "    <tr>\n",
       "      <th>7</th>\n",
       "      <td>2016</td>\n",
       "      <td>5.07</td>\n",
       "      <td>6</td>\n",
       "      <td>120</td>\n",
       "    </tr>\n",
       "    <tr>\n",
       "      <th>8</th>\n",
       "      <td>2017</td>\n",
       "      <td>4.81</td>\n",
       "      <td>6</td>\n",
       "      <td>120</td>\n",
       "    </tr>\n",
       "    <tr>\n",
       "      <th>9</th>\n",
       "      <td>2015</td>\n",
       "      <td>5.12</td>\n",
       "      <td>5</td>\n",
       "      <td>120</td>\n",
       "    </tr>\n",
       "    <tr>\n",
       "      <th>10</th>\n",
       "      <td>2016</td>\n",
       "      <td>5.09</td>\n",
       "      <td>5</td>\n",
       "      <td>180</td>\n",
       "    </tr>\n",
       "    <tr>\n",
       "      <th>11</th>\n",
       "      <td>2017</td>\n",
       "      <td>4.79</td>\n",
       "      <td>5</td>\n",
       "      <td>180</td>\n",
       "    </tr>\n",
       "    <tr>\n",
       "      <th>12</th>\n",
       "      <td>2015</td>\n",
       "      <td>5.10</td>\n",
       "      <td>4</td>\n",
       "      <td>180</td>\n",
       "    </tr>\n",
       "    <tr>\n",
       "      <th>13</th>\n",
       "      <td>2016</td>\n",
       "      <td>4.74</td>\n",
       "      <td>4</td>\n",
       "      <td>180</td>\n",
       "    </tr>\n",
       "    <tr>\n",
       "      <th>14</th>\n",
       "      <td>2017</td>\n",
       "      <td>4.83</td>\n",
       "      <td>4</td>\n",
       "      <td>180</td>\n",
       "    </tr>\n",
       "    <tr>\n",
       "      <th>15</th>\n",
       "      <td>2015</td>\n",
       "      <td>5.12</td>\n",
       "      <td>6</td>\n",
       "      <td>120</td>\n",
       "    </tr>\n",
       "    <tr>\n",
       "      <th>16</th>\n",
       "      <td>2016</td>\n",
       "      <td>4.96</td>\n",
       "      <td>6</td>\n",
       "      <td>120</td>\n",
       "    </tr>\n",
       "    <tr>\n",
       "      <th>17</th>\n",
       "      <td>2017</td>\n",
       "      <td>5.11</td>\n",
       "      <td>6</td>\n",
       "      <td>120</td>\n",
       "    </tr>\n",
       "  </tbody>\n",
       "</table>\n",
       "</div>"
      ],
      "text/plain": [
       "    YEAR  CUTOFF LOG10  COLLEGE RANK  INTAKE\n",
       "0   2015          3.54             3     120\n",
       "1   2016          3.50             3     240\n",
       "2   2017          3.66             3     240\n",
       "3   2015          3.78             3     120\n",
       "4   2016          3.91             3     180\n",
       "5   2017          3.69             3     180\n",
       "6   2015          5.11             6     120\n",
       "7   2016          5.07             6     120\n",
       "8   2017          4.81             6     120\n",
       "9   2015          5.12             5     120\n",
       "10  2016          5.09             5     180\n",
       "11  2017          4.79             5     180\n",
       "12  2015          5.10             4     180\n",
       "13  2016          4.74             4     180\n",
       "14  2017          4.83             4     180\n",
       "15  2015          5.12             6     120\n",
       "16  2016          4.96             6     120\n",
       "17  2017          5.11             6     120"
      ]
     },
     "execution_count": 123,
     "metadata": {},
     "output_type": "execute_result"
    }
   ],
   "source": [
    "X"
   ]
  },
  {
   "cell_type": "code",
   "execution_count": 124,
   "id": "6c8d785c",
   "metadata": {},
   "outputs": [
    {
     "data": {
      "text/plain": [
       "0     126\n",
       "1     235\n",
       "2     244\n",
       "3     119\n",
       "4     176\n",
       "5     179\n",
       "6      49\n",
       "7      58\n",
       "8      59\n",
       "9      51\n",
       "10    130\n",
       "11    130\n",
       "12     75\n",
       "13     75\n",
       "14     90\n",
       "15     47\n",
       "16     70\n",
       "17     70\n",
       "Name: ENROLLED STUDENTS, dtype: int64"
      ]
     },
     "execution_count": 124,
     "metadata": {},
     "output_type": "execute_result"
    }
   ],
   "source": [
    "y"
   ]
  },
  {
   "cell_type": "code",
   "execution_count": 125,
   "id": "035ddd2e",
   "metadata": {},
   "outputs": [],
   "source": [
    "X23 = np.array([2020,np.log10(90937),6,120])\n",
    "X23=X23.reshape(1, 4)"
   ]
  },
  {
   "cell_type": "code",
   "execution_count": 126,
   "id": "8990564b",
   "metadata": {},
   "outputs": [],
   "source": [
    "y23p = reg.predict(X23)"
   ]
  },
  {
   "cell_type": "code",
   "execution_count": 127,
   "id": "389c98e1",
   "metadata": {},
   "outputs": [
    {
     "data": {
      "text/plain": [
       "array([71.9637227])"
      ]
     },
     "execution_count": 127,
     "metadata": {},
     "output_type": "execute_result"
    }
   ],
   "source": [
    "y23p"
   ]
  },
  {
   "cell_type": "code",
   "execution_count": 128,
   "id": "0072f840",
   "metadata": {},
   "outputs": [
    {
     "data": {
      "text/html": [
       "<div>\n",
       "<style scoped>\n",
       "    .dataframe tbody tr th:only-of-type {\n",
       "        vertical-align: middle;\n",
       "    }\n",
       "\n",
       "    .dataframe tbody tr th {\n",
       "        vertical-align: top;\n",
       "    }\n",
       "\n",
       "    .dataframe thead th {\n",
       "        text-align: right;\n",
       "    }\n",
       "</style>\n",
       "<table border=\"1\" class=\"dataframe\">\n",
       "  <thead>\n",
       "    <tr style=\"text-align: right;\">\n",
       "      <th></th>\n",
       "      <th>YEAR</th>\n",
       "      <th>CUTOFF LOG10</th>\n",
       "      <th>COLLEGE RANK</th>\n",
       "      <th>INTAKE</th>\n",
       "    </tr>\n",
       "  </thead>\n",
       "  <tbody>\n",
       "    <tr>\n",
       "      <th>0</th>\n",
       "      <td>2018</td>\n",
       "      <td>3.47</td>\n",
       "      <td>3</td>\n",
       "      <td>240</td>\n",
       "    </tr>\n",
       "    <tr>\n",
       "      <th>1</th>\n",
       "      <td>2018</td>\n",
       "      <td>3.69</td>\n",
       "      <td>3</td>\n",
       "      <td>180</td>\n",
       "    </tr>\n",
       "    <tr>\n",
       "      <th>2</th>\n",
       "      <td>2018</td>\n",
       "      <td>4.77</td>\n",
       "      <td>6</td>\n",
       "      <td>120</td>\n",
       "    </tr>\n",
       "    <tr>\n",
       "      <th>3</th>\n",
       "      <td>2018</td>\n",
       "      <td>4.79</td>\n",
       "      <td>5</td>\n",
       "      <td>180</td>\n",
       "    </tr>\n",
       "    <tr>\n",
       "      <th>4</th>\n",
       "      <td>2018</td>\n",
       "      <td>4.81</td>\n",
       "      <td>4</td>\n",
       "      <td>180</td>\n",
       "    </tr>\n",
       "    <tr>\n",
       "      <th>5</th>\n",
       "      <td>2018</td>\n",
       "      <td>4.96</td>\n",
       "      <td>6</td>\n",
       "      <td>120</td>\n",
       "    </tr>\n",
       "  </tbody>\n",
       "</table>\n",
       "</div>"
      ],
      "text/plain": [
       "   YEAR  CUTOFF LOG10  COLLEGE RANK  INTAKE\n",
       "0  2018          3.47             3     240\n",
       "1  2018          3.69             3     180\n",
       "2  2018          4.77             6     120\n",
       "3  2018          4.79             5     180\n",
       "4  2018          4.81             4     180\n",
       "5  2018          4.96             6     120"
      ]
     },
     "execution_count": 128,
     "metadata": {},
     "output_type": "execute_result"
    }
   ],
   "source": [
    "X_test"
   ]
  },
  {
   "cell_type": "code",
   "execution_count": 1,
   "id": "ff68ae01",
   "metadata": {},
   "outputs": [],
   "source": [
    "from sklearn.linear_model import LinearRegression, Ridge, RidgeCV, LassoCV, LassoLarsCV, ElasticNet, Lasso\n",
    "from sklearn.preprocessing import scale, MinMaxScaler\n",
    "import pickle\n",
    "from sklearn.model_selection import cross_val_score\n",
    "from sklearn import svm\n",
    "from sklearn import metrics\n",
    "from sklearn.ensemble import RandomForestRegressor\n",
    "from sklearn.neural_network import MLPRegressor\n",
    "from sklearn import linear_model"
   ]
  },
  {
   "cell_type": "code",
   "execution_count": 130,
   "id": "43face9b",
   "metadata": {},
   "outputs": [
    {
     "name": "stdout",
     "output_type": "stream",
     "text": [
      "mae= 59.836228420174656\n",
      "mse= 6000.903711590523\n",
      "r2_score= -0.7137686413071771\n"
     ]
    }
   ],
   "source": [
    "#svm-worst fit\n",
    "svm_clf = svm.SVR()\n",
    "svm_clf.fit(X,y)\n",
    "ysvm_pred=svm_clf.predict(X_test)\n",
    "print('mae=',mean_absolute_error(y_test,ysvm_pred))\n",
    "print('mse=',mean_squared_error(y_test,ysvm_pred))\n",
    "print('r2_score=',r2_score(y_test,ysvm_pred))"
   ]
  },
  {
   "cell_type": "code",
   "execution_count": 131,
   "id": "d6add43b",
   "metadata": {},
   "outputs": [
    {
     "name": "stdout",
     "output_type": "stream",
     "text": [
      "mae= 20.5795\n",
      "mse= 647.9450151666668\n",
      "r2_score= 0.8149565629358146\n"
     ]
    }
   ],
   "source": [
    "#random forests\n",
    "rand_clf=RandomForestRegressor(n_estimators = 1000,max_features='sqrt')\n",
    "rand_clf.fit(X,y)\n",
    "yrand_pred=rand_clf.predict(X_test)\n",
    "print('mae=',mean_absolute_error(y_test,yrand_pred))\n",
    "print('mse=',mean_squared_error(y_test,yrand_pred))\n",
    "print('r2_score=',r2_score(y_test,yrand_pred))"
   ]
  },
  {
   "cell_type": "code",
   "execution_count": 132,
   "id": "735317eb",
   "metadata": {},
   "outputs": [
    {
     "name": "stdout",
     "output_type": "stream",
     "text": [
      "mae= 20.576936831469386\n",
      "mse= 710.7211820287289\n",
      "r2_score= 0.797028625518343\n"
     ]
    }
   ],
   "source": [
    "#lasso\n",
    "lasso_clf = linear_model.Lasso(alpha=0.001, selection=\"random\", random_state=1)\n",
    "lasso_clf.fit(X,y)\n",
    "ylasso_pred=lasso_clf.predict(X_test)\n",
    "print('mae=',mean_absolute_error(y_test,ylasso_pred))\n",
    "print('mse=',mean_squared_error(y_test,ylasso_pred))\n",
    "print('r2_score=',r2_score(y_test,ylasso_pred))"
   ]
  },
  {
   "cell_type": "code",
   "execution_count": 133,
   "id": "a9afb39e",
   "metadata": {},
   "outputs": [
    {
     "name": "stdout",
     "output_type": "stream",
     "text": [
      "mae= 20.68956333462438\n",
      "mse= 764.9220493957705\n",
      "r2_score= 0.7815496658000132\n"
     ]
    }
   ],
   "source": [
    "#ridge -best fit\n",
    "ridge_clf = Ridge(alpha=0.1)\n",
    "ridge_clf.fit(X,y)\n",
    "yridge_pred=ridge_clf.predict(X_test)\n",
    "print('mae=',mean_absolute_error(y_test,yridge_pred))\n",
    "print('mse=',mean_squared_error(y_test,yridge_pred))\n",
    "print('r2_score=',r2_score(y_test,yridge_pred))"
   ]
  },
  {
   "cell_type": "code",
   "execution_count": 134,
   "id": "1f2e7af9",
   "metadata": {},
   "outputs": [
    {
     "data": {
      "text/plain": [
       "array([225.07 , 176.4  ,  77.341, 120.013,  99.471,  66.17 ])"
      ]
     },
     "execution_count": 134,
     "metadata": {},
     "output_type": "execute_result"
    }
   ],
   "source": [
    "yrand_pred"
   ]
  },
  {
   "cell_type": "code",
   "execution_count": 135,
   "id": "fbad7fa1",
   "metadata": {},
   "outputs": [
    {
     "data": {
      "text/plain": [
       "array([249.4276628 , 178.9110217 ,  83.58886039, 124.13779589,\n",
       "       110.14217898,  69.79478379])"
      ]
     },
     "execution_count": 135,
     "metadata": {},
     "output_type": "execute_result"
    }
   ],
   "source": [
    "yridge_pred"
   ]
  },
  {
   "cell_type": "code",
   "execution_count": 136,
   "id": "9b6c4ae4",
   "metadata": {},
   "outputs": [
    {
     "data": {
      "text/plain": [
       "0    234\n",
       "1    179\n",
       "2    104\n",
       "3    130\n",
       "4     53\n",
       "5     95\n",
       "Name: ENROLLED STUDENTS, dtype: int64"
      ]
     },
     "execution_count": 136,
     "metadata": {},
     "output_type": "execute_result"
    }
   ],
   "source": [
    "y_test"
   ]
  },
  {
   "cell_type": "code",
   "execution_count": null,
   "id": "25252c5e",
   "metadata": {},
   "outputs": [],
   "source": []
  }
 ],
 "metadata": {
  "kernelspec": {
   "display_name": "Python 3",
   "language": "python",
   "name": "python3"
  },
  "language_info": {
   "codemirror_mode": {
    "name": "ipython",
    "version": 3
   },
   "file_extension": ".py",
   "mimetype": "text/x-python",
   "name": "python",
   "nbconvert_exporter": "python",
   "pygments_lexer": "ipython3",
   "version": "3.8.8"
  }
 },
 "nbformat": 4,
 "nbformat_minor": 5
}
