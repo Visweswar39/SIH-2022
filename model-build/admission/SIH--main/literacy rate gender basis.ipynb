{
 "cells": [
  {
   "cell_type": "code",
   "execution_count": 2,
   "id": "5f35a7a4",
   "metadata": {},
   "outputs": [],
   "source": [
    "import pandas as pd\n",
    "import numpy as np\n",
    "import plotly.offline as py\n",
    "import plotly.graph_objs as go"
   ]
  },
  {
   "cell_type": "code",
   "execution_count": 3,
   "id": "c8a038fb",
   "metadata": {},
   "outputs": [],
   "source": [
    "df = pd.read_excel('literacyrate census.xlsx')"
   ]
  },
  {
   "cell_type": "code",
   "execution_count": 9,
   "id": "5eae3800",
   "metadata": {},
   "outputs": [
    {
     "data": {
      "text/html": [
       "<div>\n",
       "<style scoped>\n",
       "    .dataframe tbody tr th:only-of-type {\n",
       "        vertical-align: middle;\n",
       "    }\n",
       "\n",
       "    .dataframe tbody tr th {\n",
       "        vertical-align: top;\n",
       "    }\n",
       "\n",
       "    .dataframe thead th {\n",
       "        text-align: right;\n",
       "    }\n",
       "</style>\n",
       "<table border=\"1\" class=\"dataframe\">\n",
       "  <thead>\n",
       "    <tr style=\"text-align: right;\">\n",
       "      <th></th>\n",
       "      <th>#</th>\n",
       "      <th>State</th>\n",
       "      <th>Literacy</th>\n",
       "      <th>Male</th>\n",
       "      <th>Female</th>\n",
       "      <th>% Change</th>\n",
       "    </tr>\n",
       "  </thead>\n",
       "  <tbody>\n",
       "    <tr>\n",
       "      <th>1</th>\n",
       "      <td>1</td>\n",
       "      <td>Kerala</td>\n",
       "      <td>94.00</td>\n",
       "      <td>96.11</td>\n",
       "      <td>92.07</td>\n",
       "      <td>3.14</td>\n",
       "    </tr>\n",
       "    <tr>\n",
       "      <th>2</th>\n",
       "      <td>2</td>\n",
       "      <td>Lakshadweep</td>\n",
       "      <td>91.85</td>\n",
       "      <td>95.56</td>\n",
       "      <td>87.95</td>\n",
       "      <td>5.19</td>\n",
       "    </tr>\n",
       "    <tr>\n",
       "      <th>3</th>\n",
       "      <td>3</td>\n",
       "      <td>Mizoram</td>\n",
       "      <td>91.33</td>\n",
       "      <td>93.35</td>\n",
       "      <td>89.27</td>\n",
       "      <td>2.53</td>\n",
       "    </tr>\n",
       "    <tr>\n",
       "      <th>4</th>\n",
       "      <td>4</td>\n",
       "      <td>Goa</td>\n",
       "      <td>88.70</td>\n",
       "      <td>92.65</td>\n",
       "      <td>84.66</td>\n",
       "      <td>6.69</td>\n",
       "    </tr>\n",
       "    <tr>\n",
       "      <th>5</th>\n",
       "      <td>5</td>\n",
       "      <td>Tripura</td>\n",
       "      <td>87.22</td>\n",
       "      <td>91.53</td>\n",
       "      <td>82.73</td>\n",
       "      <td>14.03</td>\n",
       "    </tr>\n",
       "  </tbody>\n",
       "</table>\n",
       "</div>"
      ],
      "text/plain": [
       "   #        State  Literacy   Male  Female  % Change\n",
       "1  1       Kerala     94.00  96.11   92.07      3.14\n",
       "2  2  Lakshadweep     91.85  95.56   87.95      5.19\n",
       "3  3      Mizoram     91.33  93.35   89.27      2.53\n",
       "4  4          Goa     88.70  92.65   84.66      6.69\n",
       "5  5      Tripura     87.22  91.53   82.73     14.03"
      ]
     },
     "execution_count": 9,
     "metadata": {},
     "output_type": "execute_result"
    }
   ],
   "source": [
    "df.sort_values()\n",
    "df.head()"
   ]
  },
  {
   "cell_type": "code",
   "execution_count": 5,
   "id": "cab9e10a",
   "metadata": {},
   "outputs": [],
   "source": [
    "x = df.iloc[0,:]"
   ]
  },
  {
   "cell_type": "code",
   "execution_count": 8,
   "id": "e30ad5c3",
   "metadata": {},
   "outputs": [],
   "source": [
    "df.drop(0,axis=0,inplace=True)"
   ]
  },
  {
   "cell_type": "code",
   "execution_count": 17,
   "id": "b00a583f",
   "metadata": {},
   "outputs": [
    {
     "data": {
      "text/plain": [
       "'Literacy rate based on gender.html'"
      ]
     },
     "execution_count": 17,
     "metadata": {},
     "output_type": "execute_result"
    }
   ],
   "source": [
    "trace1 = go.Bar(x=df['State'],y=df['Male'],width=0.5,name='Male')\n",
    "trace2 = go.Bar(x=df['State'],y=df['Female'],width=0.5,name='Female')\n",
    "data =[trace1,trace2]\n",
    "layout = go.Layout(xaxis = {'title':'state'},yaxis={'title':'Literacy'},title='Literacy Rate and states',barmode='overlay')\n",
    "fig = go.Figure(data=data,layout=layout)\n",
    "py.plot(fig,filename='Literacy rate based on gender')"
   ]
  },
  {
   "cell_type": "code",
   "execution_count": null,
   "id": "bbc31561",
   "metadata": {},
   "outputs": [],
   "source": []
  }
 ],
 "metadata": {
  "kernelspec": {
   "display_name": "Python 3",
   "language": "python",
   "name": "python3"
  },
  "language_info": {
   "codemirror_mode": {
    "name": "ipython",
    "version": 3
   },
   "file_extension": ".py",
   "mimetype": "text/x-python",
   "name": "python",
   "nbconvert_exporter": "python",
   "pygments_lexer": "ipython3",
   "version": "3.8.8"
  }
 },
 "nbformat": 4,
 "nbformat_minor": 5
}
