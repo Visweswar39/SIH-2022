{
 "cells": [
  {
   "cell_type": "code",
   "execution_count": 1,
   "id": "6b5c3e23",
   "metadata": {},
   "outputs": [],
   "source": [
    "import plotly.offline as pyo\n",
    "import plotly.graph_objs as go"
   ]
  },
  {
   "cell_type": "code",
   "execution_count": 18,
   "id": "9a4df4b1",
   "metadata": {},
   "outputs": [],
   "source": [
    "def graph(y):\n",
    "    x = [\"Enrolled percentage\",\"placement percentage\",\"Employement potential\"]\n",
    "    trace = go.Bar(x=x,y=y,width=0.5,marker={'color':'chocolate'})\n",
    "    data = [trace]\n",
    "    layout=go.Layout(title=\"college Name\",xaxis={'title':'parameter'},yaxis={'title':'percentage'})\n",
    "    fig = go.Figure(data=data,layout=layout)\n",
    "    z=pyo.plot(fig,output_type='div')\n",
    "    return z"
   ]
  },
  {
   "cell_type": "code",
   "execution_count": 23,
   "id": "6e2be341",
   "metadata": {},
   "outputs": [],
   "source": [
    "gvp = graph([94.45,38.17,39.91])\n",
    "anits = graph([97.89,36.69,40.94])\n",
    "baba = graph([63.78,20.84,32.06])\n",
    "dadi = graph([66.26,15.67,23.63])\n",
    "avanti = graph([54.87,11.69,21.79])\n",
    "vishaka = graph([55.23,21.30,38.21])\n",
    "sundar = graph([91.93,51.08,55.56])\n",
    "paavai = graph([84,50.11,58.47])\n",
    "Xavier = graph([92,60.56,66.91])"
   ]
  },
  {
   "cell_type": "code",
   "execution_count": null,
   "id": "3cadd82c",
   "metadata": {},
   "outputs": [],
   "source": []
  },
  {
   "cell_type": "code",
   "execution_count": null,
   "id": "65171fca",
   "metadata": {},
   "outputs": [],
   "source": []
  }
 ],
 "metadata": {
  "kernelspec": {
   "display_name": "Python 3",
   "language": "python",
   "name": "python3"
  },
  "language_info": {
   "codemirror_mode": {
    "name": "ipython",
    "version": 3
   },
   "file_extension": ".py",
   "mimetype": "text/x-python",
   "name": "python",
   "nbconvert_exporter": "python",
   "pygments_lexer": "ipython3",
   "version": "3.8.8"
  }
 },
 "nbformat": 4,
 "nbformat_minor": 5
}
