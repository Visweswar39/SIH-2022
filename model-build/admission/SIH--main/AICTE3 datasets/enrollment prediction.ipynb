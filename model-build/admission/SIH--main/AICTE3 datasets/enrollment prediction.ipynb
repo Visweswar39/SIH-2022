{
 "cells": [
  {
   "cell_type": "code",
   "execution_count": 1,
   "id": "d22e29f8",
   "metadata": {},
   "outputs": [],
   "source": [
    "import pandas as pd\n",
    "import numpy as np"
   ]
  },
  {
   "cell_type": "code",
   "execution_count": 2,
   "id": "60e6c534",
   "metadata": {},
   "outputs": [],
   "source": [
    "df = pd.read_excel(\"C:\\\\Users\\\\Viswes\\\\hackathon\\\\AICTE3 datasets\\\\AICTE train.xlsx\")"
   ]
  },
  {
   "cell_type": "code",
   "execution_count": 3,
   "id": "6db4d98b",
   "metadata": {},
   "outputs": [
    {
     "data": {
      "text/html": [
       "<div>\n",
       "<style scoped>\n",
       "    .dataframe tbody tr th:only-of-type {\n",
       "        vertical-align: middle;\n",
       "    }\n",
       "\n",
       "    .dataframe tbody tr th {\n",
       "        vertical-align: top;\n",
       "    }\n",
       "\n",
       "    .dataframe thead th {\n",
       "        text-align: right;\n",
       "    }\n",
       "</style>\n",
       "<table border=\"1\" class=\"dataframe\">\n",
       "  <thead>\n",
       "    <tr style=\"text-align: right;\">\n",
       "      <th></th>\n",
       "      <th>YEAR</th>\n",
       "      <th>STATE</th>\n",
       "      <th>CITY</th>\n",
       "      <th>CITY ID</th>\n",
       "      <th>LEVEL</th>\n",
       "      <th>PROGRAMME</th>\n",
       "      <th>COURSE</th>\n",
       "      <th>COURSE ID</th>\n",
       "      <th>CUTOFF RANK</th>\n",
       "      <th>COLLEGE RANK</th>\n",
       "      <th>INTAKE</th>\n",
       "      <th>ENROLLED STUDENTS</th>\n",
       "      <th>PLACED STUDENTS</th>\n",
       "    </tr>\n",
       "  </thead>\n",
       "  <tbody>\n",
       "    <tr>\n",
       "      <th>0</th>\n",
       "      <td>2015</td>\n",
       "      <td>Andhra Pradesh</td>\n",
       "      <td>Visakhapatnam</td>\n",
       "      <td>1</td>\n",
       "      <td>UG</td>\n",
       "      <td>Engineering and Technolgy</td>\n",
       "      <td>Computer Science and Technology</td>\n",
       "      <td>1</td>\n",
       "      <td>3490</td>\n",
       "      <td>3</td>\n",
       "      <td>120</td>\n",
       "      <td>126</td>\n",
       "      <td>84</td>\n",
       "    </tr>\n",
       "    <tr>\n",
       "      <th>1</th>\n",
       "      <td>2016</td>\n",
       "      <td>Andhra Pradesh</td>\n",
       "      <td>Visakhapatnam</td>\n",
       "      <td>1</td>\n",
       "      <td>UG</td>\n",
       "      <td>Engineering and Technolgy</td>\n",
       "      <td>Computer Science and Technology</td>\n",
       "      <td>1</td>\n",
       "      <td>3193</td>\n",
       "      <td>3</td>\n",
       "      <td>240</td>\n",
       "      <td>235</td>\n",
       "      <td>98</td>\n",
       "    </tr>\n",
       "    <tr>\n",
       "      <th>2</th>\n",
       "      <td>2017</td>\n",
       "      <td>Andhra Pradesh</td>\n",
       "      <td>Visakhapatnam</td>\n",
       "      <td>1</td>\n",
       "      <td>UG</td>\n",
       "      <td>Engineering and Technolgy</td>\n",
       "      <td>Computer Science and Technology</td>\n",
       "      <td>1</td>\n",
       "      <td>4601</td>\n",
       "      <td>3</td>\n",
       "      <td>240</td>\n",
       "      <td>244</td>\n",
       "      <td>91</td>\n",
       "    </tr>\n",
       "    <tr>\n",
       "      <th>3</th>\n",
       "      <td>2015</td>\n",
       "      <td>Andhra Pradesh</td>\n",
       "      <td>Visakhapatnam</td>\n",
       "      <td>1</td>\n",
       "      <td>UG</td>\n",
       "      <td>Engineering and Technolgy</td>\n",
       "      <td>Computer Science and Technology</td>\n",
       "      <td>1</td>\n",
       "      <td>6049</td>\n",
       "      <td>3</td>\n",
       "      <td>120</td>\n",
       "      <td>119</td>\n",
       "      <td>68</td>\n",
       "    </tr>\n",
       "    <tr>\n",
       "      <th>4</th>\n",
       "      <td>2016</td>\n",
       "      <td>Andhra Pradesh</td>\n",
       "      <td>Visakhapatnam</td>\n",
       "      <td>1</td>\n",
       "      <td>UG</td>\n",
       "      <td>Engineering and Technolgy</td>\n",
       "      <td>Computer Science and Technology</td>\n",
       "      <td>1</td>\n",
       "      <td>8172</td>\n",
       "      <td>3</td>\n",
       "      <td>180</td>\n",
       "      <td>176</td>\n",
       "      <td>76</td>\n",
       "    </tr>\n",
       "  </tbody>\n",
       "</table>\n",
       "</div>"
      ],
      "text/plain": [
       "   YEAR          STATE            CITY  CITY ID LEVEL  \\\n",
       "0  2015  Andhra Pradesh  Visakhapatnam        1    UG   \n",
       "1  2016  Andhra Pradesh  Visakhapatnam        1    UG   \n",
       "2  2017  Andhra Pradesh  Visakhapatnam        1    UG   \n",
       "3  2015  Andhra Pradesh  Visakhapatnam        1    UG   \n",
       "4  2016  Andhra Pradesh  Visakhapatnam        1    UG   \n",
       "\n",
       "                   PROGRAMME                           COURSE  COURSE ID  \\\n",
       "0  Engineering and Technolgy  Computer Science and Technology          1   \n",
       "1  Engineering and Technolgy  Computer Science and Technology          1   \n",
       "2  Engineering and Technolgy  Computer Science and Technology          1   \n",
       "3  Engineering and Technolgy  Computer Science and Technology          1   \n",
       "4  Engineering and Technolgy  Computer Science and Technology          1   \n",
       "\n",
       "   CUTOFF RANK  COLLEGE RANK  INTAKE  ENROLLED STUDENTS  PLACED STUDENTS  \n",
       "0         3490             3     120                126               84  \n",
       "1         3193             3     240                235               98  \n",
       "2         4601             3     240                244               91  \n",
       "3         6049             3     120                119               68  \n",
       "4         8172             3     180                176               76  "
      ]
     },
     "execution_count": 3,
     "metadata": {},
     "output_type": "execute_result"
    }
   ],
   "source": [
    "df.head()"
   ]
  },
  {
   "cell_type": "code",
   "execution_count": 4,
   "id": "7fed801a",
   "metadata": {},
   "outputs": [],
   "source": [
    "df.drop(['CUTOFF RANK','CITY','CITY ID','LEVEL','PROGRAMME','COURSE','COURSE ID','STATE ','PLACED STUDENTS'],axis=1,inplace=True)"
   ]
  },
  {
   "cell_type": "code",
   "execution_count": 5,
   "id": "a3e458e8",
   "metadata": {},
   "outputs": [
    {
     "data": {
      "text/html": [
       "<div>\n",
       "<style scoped>\n",
       "    .dataframe tbody tr th:only-of-type {\n",
       "        vertical-align: middle;\n",
       "    }\n",
       "\n",
       "    .dataframe tbody tr th {\n",
       "        vertical-align: top;\n",
       "    }\n",
       "\n",
       "    .dataframe thead th {\n",
       "        text-align: right;\n",
       "    }\n",
       "</style>\n",
       "<table border=\"1\" class=\"dataframe\">\n",
       "  <thead>\n",
       "    <tr style=\"text-align: right;\">\n",
       "      <th></th>\n",
       "      <th>YEAR</th>\n",
       "      <th>COLLEGE RANK</th>\n",
       "      <th>INTAKE</th>\n",
       "      <th>ENROLLED STUDENTS</th>\n",
       "    </tr>\n",
       "  </thead>\n",
       "  <tbody>\n",
       "    <tr>\n",
       "      <th>0</th>\n",
       "      <td>2015</td>\n",
       "      <td>3</td>\n",
       "      <td>120</td>\n",
       "      <td>126</td>\n",
       "    </tr>\n",
       "    <tr>\n",
       "      <th>1</th>\n",
       "      <td>2016</td>\n",
       "      <td>3</td>\n",
       "      <td>240</td>\n",
       "      <td>235</td>\n",
       "    </tr>\n",
       "    <tr>\n",
       "      <th>2</th>\n",
       "      <td>2017</td>\n",
       "      <td>3</td>\n",
       "      <td>240</td>\n",
       "      <td>244</td>\n",
       "    </tr>\n",
       "    <tr>\n",
       "      <th>3</th>\n",
       "      <td>2015</td>\n",
       "      <td>3</td>\n",
       "      <td>120</td>\n",
       "      <td>119</td>\n",
       "    </tr>\n",
       "    <tr>\n",
       "      <th>4</th>\n",
       "      <td>2016</td>\n",
       "      <td>3</td>\n",
       "      <td>180</td>\n",
       "      <td>176</td>\n",
       "    </tr>\n",
       "  </tbody>\n",
       "</table>\n",
       "</div>"
      ],
      "text/plain": [
       "   YEAR  COLLEGE RANK  INTAKE  ENROLLED STUDENTS\n",
       "0  2015             3     120                126\n",
       "1  2016             3     240                235\n",
       "2  2017             3     240                244\n",
       "3  2015             3     120                119\n",
       "4  2016             3     180                176"
      ]
     },
     "execution_count": 5,
     "metadata": {},
     "output_type": "execute_result"
    }
   ],
   "source": [
    "df.head()"
   ]
  },
  {
   "cell_type": "code",
   "execution_count": 6,
   "id": "b4b240bc",
   "metadata": {},
   "outputs": [],
   "source": [
    "X = df.iloc[:,0:3]\n",
    "y = df.iloc[:,3]"
   ]
  },
  {
   "cell_type": "code",
   "execution_count": 7,
   "id": "51d40d81",
   "metadata": {},
   "outputs": [
    {
     "data": {
      "text/html": [
       "<div>\n",
       "<style scoped>\n",
       "    .dataframe tbody tr th:only-of-type {\n",
       "        vertical-align: middle;\n",
       "    }\n",
       "\n",
       "    .dataframe tbody tr th {\n",
       "        vertical-align: top;\n",
       "    }\n",
       "\n",
       "    .dataframe thead th {\n",
       "        text-align: right;\n",
       "    }\n",
       "</style>\n",
       "<table border=\"1\" class=\"dataframe\">\n",
       "  <thead>\n",
       "    <tr style=\"text-align: right;\">\n",
       "      <th></th>\n",
       "      <th>YEAR</th>\n",
       "      <th>COLLEGE RANK</th>\n",
       "      <th>INTAKE</th>\n",
       "    </tr>\n",
       "  </thead>\n",
       "  <tbody>\n",
       "    <tr>\n",
       "      <th>0</th>\n",
       "      <td>2015</td>\n",
       "      <td>3</td>\n",
       "      <td>120</td>\n",
       "    </tr>\n",
       "    <tr>\n",
       "      <th>1</th>\n",
       "      <td>2016</td>\n",
       "      <td>3</td>\n",
       "      <td>240</td>\n",
       "    </tr>\n",
       "    <tr>\n",
       "      <th>2</th>\n",
       "      <td>2017</td>\n",
       "      <td>3</td>\n",
       "      <td>240</td>\n",
       "    </tr>\n",
       "    <tr>\n",
       "      <th>3</th>\n",
       "      <td>2015</td>\n",
       "      <td>3</td>\n",
       "      <td>120</td>\n",
       "    </tr>\n",
       "    <tr>\n",
       "      <th>4</th>\n",
       "      <td>2016</td>\n",
       "      <td>3</td>\n",
       "      <td>180</td>\n",
       "    </tr>\n",
       "    <tr>\n",
       "      <th>5</th>\n",
       "      <td>2017</td>\n",
       "      <td>3</td>\n",
       "      <td>180</td>\n",
       "    </tr>\n",
       "    <tr>\n",
       "      <th>6</th>\n",
       "      <td>2015</td>\n",
       "      <td>6</td>\n",
       "      <td>120</td>\n",
       "    </tr>\n",
       "    <tr>\n",
       "      <th>7</th>\n",
       "      <td>2016</td>\n",
       "      <td>6</td>\n",
       "      <td>120</td>\n",
       "    </tr>\n",
       "    <tr>\n",
       "      <th>8</th>\n",
       "      <td>2017</td>\n",
       "      <td>6</td>\n",
       "      <td>120</td>\n",
       "    </tr>\n",
       "    <tr>\n",
       "      <th>9</th>\n",
       "      <td>2015</td>\n",
       "      <td>5</td>\n",
       "      <td>120</td>\n",
       "    </tr>\n",
       "    <tr>\n",
       "      <th>10</th>\n",
       "      <td>2016</td>\n",
       "      <td>5</td>\n",
       "      <td>180</td>\n",
       "    </tr>\n",
       "    <tr>\n",
       "      <th>11</th>\n",
       "      <td>2017</td>\n",
       "      <td>5</td>\n",
       "      <td>180</td>\n",
       "    </tr>\n",
       "    <tr>\n",
       "      <th>12</th>\n",
       "      <td>2015</td>\n",
       "      <td>4</td>\n",
       "      <td>180</td>\n",
       "    </tr>\n",
       "    <tr>\n",
       "      <th>13</th>\n",
       "      <td>2016</td>\n",
       "      <td>4</td>\n",
       "      <td>180</td>\n",
       "    </tr>\n",
       "    <tr>\n",
       "      <th>14</th>\n",
       "      <td>2017</td>\n",
       "      <td>4</td>\n",
       "      <td>180</td>\n",
       "    </tr>\n",
       "  </tbody>\n",
       "</table>\n",
       "</div>"
      ],
      "text/plain": [
       "    YEAR  COLLEGE RANK  INTAKE\n",
       "0   2015             3     120\n",
       "1   2016             3     240\n",
       "2   2017             3     240\n",
       "3   2015             3     120\n",
       "4   2016             3     180\n",
       "5   2017             3     180\n",
       "6   2015             6     120\n",
       "7   2016             6     120\n",
       "8   2017             6     120\n",
       "9   2015             5     120\n",
       "10  2016             5     180\n",
       "11  2017             5     180\n",
       "12  2015             4     180\n",
       "13  2016             4     180\n",
       "14  2017             4     180"
      ]
     },
     "execution_count": 7,
     "metadata": {},
     "output_type": "execute_result"
    }
   ],
   "source": [
    "X"
   ]
  },
  {
   "cell_type": "code",
   "execution_count": 8,
   "id": "de67301e",
   "metadata": {},
   "outputs": [],
   "source": [
    "from sklearn.model_selection import train_test_split\n",
    "X_train,X_test,y_train,y_test = train_test_split(X,y,test_size=0.2,random_state=2)"
   ]
  },
  {
   "cell_type": "code",
   "execution_count": 9,
   "id": "4bf6e052",
   "metadata": {},
   "outputs": [
    {
     "data": {
      "text/plain": [
       "LinearRegression()"
      ]
     },
     "execution_count": 9,
     "metadata": {},
     "output_type": "execute_result"
    }
   ],
   "source": [
    "from sklearn.linear_model import LinearRegression\n",
    "reg = LinearRegression()\n",
    "reg.fit(X_train,y_train)"
   ]
  },
  {
   "cell_type": "code",
   "execution_count": 10,
   "id": "0932c495",
   "metadata": {},
   "outputs": [],
   "source": [
    "y_pred =reg.predict(X_test)"
   ]
  },
  {
   "cell_type": "code",
   "execution_count": 11,
   "id": "9f9f7f0f",
   "metadata": {},
   "outputs": [
    {
     "data": {
      "text/plain": [
       "11    130\n",
       "4     176\n",
       "5     179\n",
       "Name: ENROLLED STUDENTS, dtype: int64"
      ]
     },
     "execution_count": 11,
     "metadata": {},
     "output_type": "execute_result"
    }
   ],
   "source": [
    "y_test"
   ]
  },
  {
   "cell_type": "code",
   "execution_count": 13,
   "id": "2e14ee20",
   "metadata": {},
   "outputs": [
    {
     "name": "stdout",
     "output_type": "stream",
     "text": [
      "mae= 14.65604644576039\n",
      "mse= 221.11814431789887\n",
      "r2_score= 0.5603041761243726\n"
     ]
    }
   ],
   "source": [
    "from sklearn.metrics import mean_absolute_error,mean_squared_error,r2_score\n",
    "print('mae=',mean_absolute_error(y_test,y_pred))\n",
    "print('mse=',mean_squared_error(y_test,y_pred))\n",
    "print('r2_score=',r2_score(y_test,y_pred))"
   ]
  },
  {
   "cell_type": "code",
   "execution_count": 14,
   "id": "6a1d2061",
   "metadata": {},
   "outputs": [],
   "source": [
    "from sklearn.linear_model import LinearRegression, Ridge, RidgeCV, LassoCV, LassoLarsCV, ElasticNet, Lasso\n",
    "from sklearn.preprocessing import scale, MinMaxScaler\n",
    "import pickle\n",
    "from sklearn.model_selection import cross_val_score\n",
    "from sklearn import svm\n",
    "from sklearn import metrics\n",
    "from sklearn.ensemble import RandomForestRegressor\n",
    "from sklearn.neural_network import MLPRegressor\n",
    "from sklearn import linear_model"
   ]
  },
  {
   "cell_type": "code",
   "execution_count": 15,
   "id": "021cc919",
   "metadata": {},
   "outputs": [
    {
     "name": "stdout",
     "output_type": "stream",
     "text": [
      "mae= 79.16666303984239\n",
      "mse= 6770.249104675022\n",
      "r2_score= -12.462713641642774\n"
     ]
    }
   ],
   "source": [
    "#svm\n",
    "svm_clf = svm.SVR()\n",
    "svm_clf.fit(X_train,y_train)\n",
    "ysvm_pred=svm_clf.predict(X_test)\n",
    "print('mae=',mean_absolute_error(y_test,ysvm_pred))\n",
    "print('mse=',mean_squared_error(y_test,ysvm_pred))\n",
    "print('r2_score=',r2_score(y_test,ysvm_pred))"
   ]
  },
  {
   "cell_type": "code",
   "execution_count": 16,
   "id": "9ac89c4a",
   "metadata": {},
   "outputs": [
    {
     "name": "stdout",
     "output_type": "stream",
     "text": [
      "mae= 36.6456888888889\n",
      "mse= 1370.9110285748156\n",
      "r2_score= -1.7260714222654308\n"
     ]
    }
   ],
   "source": [
    "#random forests\n",
    "rand_clf=RandomForestRegressor(n_estimators = 1000,max_features='sqrt')\n",
    "rand_clf.fit(X_train,y_train)\n",
    "yrand_pred=rand_clf.predict(X_test)\n",
    "print('mae=',mean_absolute_error(y_test,yrand_pred))\n",
    "print('mse=',mean_squared_error(y_test,yrand_pred))\n",
    "print('r2_score=',r2_score(y_test,yrand_pred))"
   ]
  },
  {
   "cell_type": "code",
   "execution_count": 24,
   "id": "b928cdd3",
   "metadata": {},
   "outputs": [
    {
     "name": "stdout",
     "output_type": "stream",
     "text": [
      "mae= 14.65889073712242\n",
      "mse= 221.1984084798515\n",
      "r2_score= 0.5601445699693629\n"
     ]
    }
   ],
   "source": [
    "#lasso\n",
    "lasso_clf = linear_model.Lasso(alpha=0.001, selection=\"random\", random_state=1)\n",
    "lasso_clf.fit(X_train,y_train)\n",
    "ylasso_pred=lasso_clf.predict(X_test)\n",
    "print('mae=',mean_absolute_error(y_test,ylasso_pred))\n",
    "print('mse=',mean_squared_error(y_test,ylasso_pred))\n",
    "print('r2_score=',r2_score(y_test,ylasso_pred))"
   ]
  },
  {
   "cell_type": "code",
   "execution_count": 26,
   "id": "717c2247",
   "metadata": {},
   "outputs": [
    {
     "name": "stdout",
     "output_type": "stream",
     "text": [
      "mae= 14.975059984005687\n",
      "mse= 230.5570629355876\n",
      "r2_score= 0.5415347842641873\n"
     ]
    }
   ],
   "source": [
    "ridge_clf = Ridge(alpha=0.1)\n",
    "ridge_clf.fit(X_train,y_train)\n",
    "yridge_pred=ridge_clf.predict(X_test)\n",
    "print('mae=',mean_absolute_error(y_test,yridge_pred))\n",
    "print('mse=',mean_squared_error(y_test,yridge_pred))\n",
    "print('r2_score=',r2_score(y_test,yridge_pred))"
   ]
  },
  {
   "cell_type": "code",
   "execution_count": null,
   "id": "81520740",
   "metadata": {},
   "outputs": [],
   "source": []
  }
 ],
 "metadata": {
  "kernelspec": {
   "display_name": "Python 3",
   "language": "python",
   "name": "python3"
  },
  "language_info": {
   "codemirror_mode": {
    "name": "ipython",
    "version": 3
   },
   "file_extension": ".py",
   "mimetype": "text/x-python",
   "name": "python",
   "nbconvert_exporter": "python",
   "pygments_lexer": "ipython3",
   "version": "3.8.8"
  }
 },
 "nbformat": 4,
 "nbformat_minor": 5
}
