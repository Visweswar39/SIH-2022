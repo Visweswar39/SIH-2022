{
 "cells": [
  {
   "cell_type": "code",
   "execution_count": 15,
   "id": "a1298117",
   "metadata": {},
   "outputs": [],
   "source": [
    "import numpy as np\n",
    "import pandas as pd\n",
    "import plotly.offline as py\n",
    "import plotly.graph_objs as go"
   ]
  },
  {
   "cell_type": "code",
   "execution_count": 3,
   "id": "5c3b489f",
   "metadata": {},
   "outputs": [],
   "source": [
    "df = pd.read_csv(\"D:\\\\extrapolate-master\\\\extrapolate-master\\\\data_collection\\\\scrape_aicte_dash\\\\aicte1.csv\")"
   ]
  },
  {
   "cell_type": "code",
   "execution_count": 4,
   "id": "c0edc24b",
   "metadata": {},
   "outputs": [
    {
     "data": {
      "text/html": [
       "<div>\n",
       "<style scoped>\n",
       "    .dataframe tbody tr th:only-of-type {\n",
       "        vertical-align: middle;\n",
       "    }\n",
       "\n",
       "    .dataframe tbody tr th {\n",
       "        vertical-align: top;\n",
       "    }\n",
       "\n",
       "    .dataframe thead th {\n",
       "        text-align: right;\n",
       "    }\n",
       "</style>\n",
       "<table border=\"1\" class=\"dataframe\">\n",
       "  <thead>\n",
       "    <tr style=\"text-align: right;\">\n",
       "      <th></th>\n",
       "      <th>institution_type</th>\n",
       "      <th>level</th>\n",
       "      <th>program</th>\n",
       "      <th>state</th>\n",
       "      <th>minority</th>\n",
       "      <th>women</th>\n",
       "      <th>faculties</th>\n",
       "      <th>number_of_institutes</th>\n",
       "      <th>intake</th>\n",
       "      <th>enrollment</th>\n",
       "      <th>passed</th>\n",
       "      <th>placed</th>\n",
       "    </tr>\n",
       "  </thead>\n",
       "  <tbody>\n",
       "    <tr>\n",
       "      <th>0</th>\n",
       "      <td>Unaided - Private</td>\n",
       "      <td>UG</td>\n",
       "      <td>ENGINEERING AND TECHNOLOGY</td>\n",
       "      <td>Andhra Pradesh</td>\n",
       "      <td>0</td>\n",
       "      <td>1</td>\n",
       "      <td>4103</td>\n",
       "      <td>37</td>\n",
       "      <td>15630</td>\n",
       "      <td>5581</td>\n",
       "      <td>4737</td>\n",
       "      <td>1781</td>\n",
       "    </tr>\n",
       "    <tr>\n",
       "      <th>1</th>\n",
       "      <td>Unaided - Private</td>\n",
       "      <td>UG</td>\n",
       "      <td>ENGINEERING AND TECHNOLOGY</td>\n",
       "      <td>Andhra Pradesh</td>\n",
       "      <td>1</td>\n",
       "      <td>0</td>\n",
       "      <td>4476</td>\n",
       "      <td>12</td>\n",
       "      <td>5430</td>\n",
       "      <td>1979</td>\n",
       "      <td>827</td>\n",
       "      <td>303</td>\n",
       "    </tr>\n",
       "    <tr>\n",
       "      <th>2</th>\n",
       "      <td>Unaided - Private</td>\n",
       "      <td>UG</td>\n",
       "      <td>ENGINEERING AND TECHNOLOGY</td>\n",
       "      <td>Andhra Pradesh</td>\n",
       "      <td>1</td>\n",
       "      <td>1</td>\n",
       "      <td>362</td>\n",
       "      <td>2</td>\n",
       "      <td>840</td>\n",
       "      <td>342</td>\n",
       "      <td>153</td>\n",
       "      <td>65</td>\n",
       "    </tr>\n",
       "    <tr>\n",
       "      <th>3</th>\n",
       "      <td>Unaided - Private</td>\n",
       "      <td>UG</td>\n",
       "      <td>ENGINEERING AND TECHNOLOGY</td>\n",
       "      <td>Assam</td>\n",
       "      <td>0</td>\n",
       "      <td>0</td>\n",
       "      <td>277</td>\n",
       "      <td>7</td>\n",
       "      <td>2700</td>\n",
       "      <td>1738</td>\n",
       "      <td>821</td>\n",
       "      <td>360</td>\n",
       "    </tr>\n",
       "    <tr>\n",
       "      <th>4</th>\n",
       "      <td>Unaided - Private</td>\n",
       "      <td>UG</td>\n",
       "      <td>ENGINEERING AND TECHNOLOGY</td>\n",
       "      <td>Bihar</td>\n",
       "      <td>0</td>\n",
       "      <td>0</td>\n",
       "      <td>559</td>\n",
       "      <td>16</td>\n",
       "      <td>6000</td>\n",
       "      <td>3262</td>\n",
       "      <td>1509</td>\n",
       "      <td>511</td>\n",
       "    </tr>\n",
       "  </tbody>\n",
       "</table>\n",
       "</div>"
      ],
      "text/plain": [
       "    institution_type level                     program            state  \\\n",
       "0  Unaided - Private    UG  ENGINEERING AND TECHNOLOGY  Andhra Pradesh    \n",
       "1  Unaided - Private    UG  ENGINEERING AND TECHNOLOGY  Andhra Pradesh    \n",
       "2  Unaided - Private    UG  ENGINEERING AND TECHNOLOGY  Andhra Pradesh    \n",
       "3  Unaided - Private    UG  ENGINEERING AND TECHNOLOGY            Assam   \n",
       "4  Unaided - Private    UG  ENGINEERING AND TECHNOLOGY            Bihar   \n",
       "\n",
       "   minority  women  faculties  number_of_institutes  intake  enrollment  \\\n",
       "0         0      1       4103                    37   15630        5581   \n",
       "1         1      0       4476                    12    5430        1979   \n",
       "2         1      1        362                     2     840         342   \n",
       "3         0      0        277                     7    2700        1738   \n",
       "4         0      0        559                    16    6000        3262   \n",
       "\n",
       "   passed  placed  \n",
       "0    4737    1781  \n",
       "1     827     303  \n",
       "2     153      65  \n",
       "3     821     360  \n",
       "4    1509     511  "
      ]
     },
     "execution_count": 4,
     "metadata": {},
     "output_type": "execute_result"
    }
   ],
   "source": [
    "df.head()"
   ]
  },
  {
   "cell_type": "code",
   "execution_count": 5,
   "id": "d1eece45",
   "metadata": {},
   "outputs": [],
   "source": [
    "levels=df['level'].value_counts()"
   ]
  },
  {
   "cell_type": "code",
   "execution_count": 34,
   "id": "8d4356d5",
   "metadata": {},
   "outputs": [],
   "source": [
    "program_s=df.groupby('level')['program'].value_counts()"
   ]
  },
  {
   "cell_type": "code",
   "execution_count": 37,
   "id": "1dcad0d2",
   "metadata": {},
   "outputs": [
    {
     "data": {
      "text/plain": [
       "970"
      ]
     },
     "execution_count": 37,
     "metadata": {},
     "output_type": "execute_result"
    }
   ],
   "source": [
    "program_s['DIPLOMA' , 'ENGINEERING AND TECHNOLOGY']"
   ]
  },
  {
   "cell_type": "code",
   "execution_count": 55,
   "id": "c63cf4aa",
   "metadata": {},
   "outputs": [],
   "source": [
    "level = ['DIPLOMA','PG','UG']\n",
    "course = ['ENGINEERING AND TECHNOLOGY','PHARMACY','ARCHITECTURE AND TOWN PLANNING','HOTEL MANAGEMENT AND CATERING','APPLIED ARTS AND CRAFTS','MANAGEMENT']"
   ]
  },
  {
   "cell_type": "code",
   "execution_count": 58,
   "id": "1a973269",
   "metadata": {},
   "outputs": [],
   "source": [
    "dic = {}\n",
    "l=[] \n",
    "l1 = []\n",
    "for j in course:\n",
    "    for i in level:       \n",
    "        l.append(program_s[i,j])\n",
    "    dic[j]= l.copy()\n",
    "    l.clear()\n",
    "    \n",
    "  \n",
    "dic['MCA']  = [0,465,0]"
   ]
  },
  {
   "cell_type": "code",
   "execution_count": 72,
   "id": "82cf58be",
   "metadata": {},
   "outputs": [],
   "source": [
    "trace = go.Bar(x=level,y=dic[course[0]],name=course[0])\n",
    "trace1 = go.Bar(x=level,y=dic[course[1]],name=course[1])\n",
    "trace2= go.Bar(x=level,y=dic[course[2]],name=course[2])\n",
    "trace3 = go.Bar(x=level,y=dic[course[3]],name=course[3])\n",
    "trace4 = go.Bar(x=level,y=dic[course[4]],name=course[4])\n",
    "trace5 = go.Bar(x=level,y=dic[course[5]],name=course[5])\n",
    "trace6 = go.Bar(x=level,y=dic['MCA'],name='MCA')\n"
   ]
  },
  {
   "cell_type": "code",
   "execution_count": 73,
   "id": "5272e21e",
   "metadata": {},
   "outputs": [],
   "source": [
    "data = [trace,trace1,trace2,trace3,trace4,trace5,trace6]"
   ]
  },
  {
   "cell_type": "code",
   "execution_count": 75,
   "id": "466888e3",
   "metadata": {},
   "outputs": [],
   "source": [
    "layout = go.Layout(title='AICTE LEVELS AND COURSES IN INDIA',xaxis = {'title':'Levels and Courses'})"
   ]
  },
  {
   "cell_type": "code",
   "execution_count": 77,
   "id": "d72ccce6",
   "metadata": {},
   "outputs": [
    {
     "data": {
      "text/plain": [
       "'Aicte levels and courses bar.html'"
      ]
     },
     "execution_count": 77,
     "metadata": {},
     "output_type": "execute_result"
    }
   ],
   "source": [
    "fig = go.Figure(data=data,layout=layout)\n",
    "py.plot(fig,filename='Aicte levels and courses bar.html')"
   ]
  },
  {
   "cell_type": "code",
   "execution_count": null,
   "id": "04bdd5af",
   "metadata": {},
   "outputs": [],
   "source": []
  }
 ],
 "metadata": {
  "kernelspec": {
   "display_name": "Python 3",
   "language": "python",
   "name": "python3"
  },
  "language_info": {
   "codemirror_mode": {
    "name": "ipython",
    "version": 3
   },
   "file_extension": ".py",
   "mimetype": "text/x-python",
   "name": "python",
   "nbconvert_exporter": "python",
   "pygments_lexer": "ipython3",
   "version": "3.8.8"
  }
 },
 "nbformat": 4,
 "nbformat_minor": 5
}
