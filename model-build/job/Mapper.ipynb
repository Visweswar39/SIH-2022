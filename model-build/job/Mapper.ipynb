{
 "cells": [
  {
   "cell_type": "markdown",
   "id": "3354e4ca",
   "metadata": {},
   "source": [
    "## Importing Basic Packages"
   ]
  },
  {
   "cell_type": "code",
   "execution_count": 69,
   "id": "70849422",
   "metadata": {},
   "outputs": [],
   "source": [
    "import pandas as pd\n",
    "import random\n",
    "import numpy as np\n",
    "import matplotlib.pyplot as plt\n",
    "import pickle"
   ]
  },
  {
   "cell_type": "markdown",
   "id": "02bda53d",
   "metadata": {},
   "source": [
    "## Mapping jobs into concerned Branches"
   ]
  },
  {
   "cell_type": "code",
   "execution_count": 70,
   "id": "833501fb",
   "metadata": {},
   "outputs": [],
   "source": [
    "jobs=list(pd.read_csv('jobs.csv'))"
   ]
  },
  {
   "cell_type": "code",
   "execution_count": 71,
   "id": "f783dc20",
   "metadata": {},
   "outputs": [],
   "source": [
    "o={}"
   ]
  },
  {
   "cell_type": "code",
   "execution_count": 72,
   "id": "41aed774",
   "metadata": {},
   "outputs": [],
   "source": [
    "chem=jobs[0:10]\n",
    "o['chem']=chem"
   ]
  },
  {
   "cell_type": "code",
   "execution_count": 73,
   "id": "78e5c928",
   "metadata": {},
   "outputs": [],
   "source": [
    "cse=jobs[10:20]\n",
    "o['cse']=cse"
   ]
  },
  {
   "cell_type": "code",
   "execution_count": 74,
   "id": "afee9e57",
   "metadata": {},
   "outputs": [],
   "source": [
    "ece=jobs[20:29]\n",
    "ece.append('Instrumentation engineer')\n",
    "o['ece']=ece"
   ]
  },
  {
   "cell_type": "code",
   "execution_count": 75,
   "id": "4db6d4ed",
   "metadata": {},
   "outputs": [],
   "source": [
    "eee=jobs[29:39]\n",
    "eee.remove('Instrumentation engineer')\n",
    "eee.append(jobs[39])\n",
    "o['eee']=eee"
   ]
  },
  {
   "cell_type": "code",
   "execution_count": 76,
   "id": "3936998d",
   "metadata": {},
   "outputs": [],
   "source": [
    "mec=jobs[40:50]\n",
    "o['mec']=mec"
   ]
  },
  {
   "cell_type": "code",
   "execution_count": 77,
   "id": "83da55ef",
   "metadata": {},
   "outputs": [],
   "source": [
    "civ=jobs[50:60]\n",
    "o['civ']=civ"
   ]
  },
  {
   "cell_type": "markdown",
   "id": "e4705fd4",
   "metadata": {},
   "source": [
    "## Mapping locations to their concerned states"
   ]
  },
  {
   "cell_type": "code",
   "execution_count": 78,
   "id": "62e91144",
   "metadata": {},
   "outputs": [],
   "source": [
    "locations=list(pd.read_csv('Locations.csv'))"
   ]
  },
  {
   "cell_type": "code",
   "execution_count": 79,
   "id": "ed72682c",
   "metadata": {},
   "outputs": [],
   "source": [
    "states=list(pd.read_csv('states.csv'))"
   ]
  },
  {
   "cell_type": "code",
   "execution_count": 80,
   "id": "99cb9502",
   "metadata": {},
   "outputs": [],
   "source": [
    "m={}"
   ]
  },
  {
   "cell_type": "code",
   "execution_count": 81,
   "id": "affeec9f",
   "metadata": {},
   "outputs": [],
   "source": [
    "for i in range(len(states)):\n",
    "    m[states[i]]=locations[i*3:(i+1)*3]"
   ]
  },
  {
   "cell_type": "code",
   "execution_count": 82,
   "id": "fab889ef",
   "metadata": {},
   "outputs": [],
   "source": [
    "m['Tamil Nadu'].append('Chennai')\n",
    "m['Kerala'].remove('Chennai')\n",
    "m['Andhra Pradesh'].append('Visakhapatnam')\n",
    "m['Tamil Nadu'].remove('Visakhapatnam')"
   ]
  },
  {
   "cell_type": "code",
   "execution_count": 83,
   "id": "85b19626",
   "metadata": {},
   "outputs": [],
   "source": [
    "m['Goa'].remove('Srinagar')\n",
    "m['Goa'].remove('Jammu')\n",
    "m['Jammu and Kashmir'].append('Srinagar')\n",
    "m['Jammu and Kashmir'].append('Jammu')\n",
    "m['Himachal Pradesh'].append('Shimla')\n",
    "m['Himachal Pradesh'].append('Bilaspur')"
   ]
  },
  {
   "cell_type": "code",
   "execution_count": 84,
   "id": "5953dfea",
   "metadata": {},
   "outputs": [],
   "source": [
    "m['Jammu and Kashmir'].remove('Shimla')\n",
    "m['Jammu and Kashmir'].remove('Bilaspur')\n",
    "m['Jammu and Kashmir'].remove('Dehradun')\n",
    "m['Himachal Pradesh'].remove('Chandigarh')\n",
    "m['Himachal Pradesh'].remove('Roorkee')\n",
    "m['Himachal Pradesh'].remove('Haridwar')\n",
    "m['Uttarakhand'].append('Haridwar')\n",
    "m['Uttarakhand'].append('Roorkee')\n",
    "m['Uttarakhand'].append('Dehradun')"
   ]
  },
  {
   "cell_type": "code",
   "execution_count": 85,
   "id": "564cb54e",
   "metadata": {},
   "outputs": [],
   "source": [
    "m['Uttarakhand'].remove('Amritsar')\n",
    "m['Uttarakhand'].remove('Jalandhar')\n",
    "m['Uttarakhand'].remove('Lucknow')\n",
    "m['Punjab'].append('Amritsar')\n",
    "m['Punjab'].append('Jalandhar')\n",
    "m['Punjab'].append('Chandigarh')"
   ]
  },
  {
   "cell_type": "code",
   "execution_count": 86,
   "id": "db48ce0b",
   "metadata": {},
   "outputs": [],
   "source": [
    "m['Uttar Pradesh'].append('Lucknow')\n",
    "m['Uttar Pradesh'].append('Allahabad')\n",
    "m['Uttar Pradesh'].append('Noida')\n",
    "m['Uttar Pradesh'].append('Kanpur')"
   ]
  },
  {
   "cell_type": "code",
   "execution_count": 87,
   "id": "5bbc123c",
   "metadata": {},
   "outputs": [],
   "source": [
    "m['Punjab'].remove('Allahabad')\n",
    "m['Punjab'].remove('Noida')\n",
    "m['Punjab'].remove('Kanpur')\n",
    "m['Uttar Pradesh'].remove('Kolkata')\n",
    "m['Uttar Pradesh'].remove('Durgapur')\n",
    "m['Uttar Pradesh'].remove('Howrah')"
   ]
  },
  {
   "cell_type": "code",
   "execution_count": 88,
   "id": "0c05c28e",
   "metadata": {},
   "outputs": [],
   "source": [
    "for v in m['West Bengal']:\n",
    "    m['Seven Sisters'].append(v)"
   ]
  },
  {
   "cell_type": "code",
   "execution_count": 89,
   "id": "5aee48a6",
   "metadata": {},
   "outputs": [],
   "source": [
    "m['West Bengal'].clear()\n",
    "m['West Bengal'].append('Durgapur')\n",
    "m['West Bengal'].append('Kolkata')\n",
    "m['West Bengal'].append('Howrah')"
   ]
  },
  {
   "cell_type": "code",
   "execution_count": 90,
   "id": "9d4f1392",
   "metadata": {},
   "outputs": [],
   "source": [
    "for v in m['Rajasthan']:\n",
    "    m['Seven Sisters'].append(v)\n",
    "m['Rajasthan'].clear()\n",
    "for v in m['Gujarat']:\n",
    "    m['Rajasthan'].append(v)\n",
    "m['Gujarat'].clear()    \n",
    "for v in m['Haryana']:\n",
    "    m['Gujarat'].append(v)\n",
    "m['Gujarat'].append('Vadodara')\n",
    "m['Haryana'].clear()    \n",
    "for v in m['Maharashtra']:\n",
    "    m['Haryana'].append(v)\n",
    "m['Haryana'].remove('Vadodara')\n",
    "m['Maharashtra'].clear()    \n",
    "for v in m['Madhya Pradesh']:\n",
    "    m['Maharashtra'].append(v)\n",
    "m['Madhya Pradesh'].clear()    \n",
    "for v in m['Chattisgarh']:\n",
    "    m['Madhya Pradesh'].append(v)"
   ]
  },
  {
   "cell_type": "code",
   "execution_count": 91,
   "id": "c789588b",
   "metadata": {},
   "outputs": [],
   "source": [
    "m['Chattisgarh'].clear()\n",
    "m['Chattisgarh'].append('Raigarh')\n",
    "m['Chattisgarh'].append('Raipur')\n",
    "m['Orissa'].remove('Raigarh')\n",
    "m['Orissa'].remove('Raipur')\n",
    "m['Orissa'].append('Rourkela')\n",
    "m['Orissa'].append('Puri')\n",
    "m['Bihar'].remove('Rourkela')\n",
    "m['Bihar'].remove('Puri')\n",
    "m['Bihar'].append('Gaya')\n",
    "m['Jharkhnad'].append('Jamshedpur')\n",
    "m['Jharkhnad'].remove('Gaya')"
   ]
  },
  {
   "cell_type": "markdown",
   "id": "54f2738c",
   "metadata": {},
   "source": [
    "## Mapping states to their concerned regions"
   ]
  },
  {
   "cell_type": "code",
   "execution_count": 92,
   "id": "34ff01fd",
   "metadata": {},
   "outputs": [],
   "source": [
    "n={}"
   ]
  },
  {
   "cell_type": "code",
   "execution_count": 93,
   "id": "710587f8",
   "metadata": {},
   "outputs": [],
   "source": [
    "n['South']=states[:6]\n",
    "\n",
    "n['North']=states[6:11]\n",
    "\n",
    "n['East']=states[11:13]\n",
    "\n",
    "n['West']=states[13:16]\n",
    "\n",
    "n['Central']=states[16:]\n",
    "\n"
   ]
  },
  {
   "cell_type": "markdown",
   "id": "123a07a7",
   "metadata": {},
   "source": [
    "## Saving mappers"
   ]
  },
  {
   "cell_type": "code",
   "execution_count": 94,
   "id": "7f29dc3a",
   "metadata": {},
   "outputs": [],
   "source": [
    "file = open(\"state_mapper.txt\", \"wb\")\n",
    "pickle.dump(n, file)\n",
    "file.close()"
   ]
  },
  {
   "cell_type": "code",
   "execution_count": 95,
   "id": "48d605cd",
   "metadata": {},
   "outputs": [],
   "source": [
    "file = open(\"jobrole_mapper.txt\", \"wb\")\n",
    "pickle.dump(o, file)\n",
    "file.close()"
   ]
  },
  {
   "cell_type": "code",
   "execution_count": 96,
   "id": "92d8d34b",
   "metadata": {},
   "outputs": [],
   "source": [
    "file = open(\"location_mapper.txt\", \"wb\")\n",
    "pickle.dump(m, file)\n",
    "file.close()"
   ]
  },
  {
   "cell_type": "code",
   "execution_count": null,
   "id": "e3a14d67",
   "metadata": {},
   "outputs": [],
   "source": []
  }
 ],
 "metadata": {
  "kernelspec": {
   "display_name": "Python 3 (ipykernel)",
   "language": "python",
   "name": "python3"
  },
  "language_info": {
   "codemirror_mode": {
    "name": "ipython",
    "version": 3
   },
   "file_extension": ".py",
   "mimetype": "text/x-python",
   "name": "python",
   "nbconvert_exporter": "python",
   "pygments_lexer": "ipython3",
   "version": "3.9.7"
  }
 },
 "nbformat": 4,
 "nbformat_minor": 5
}
