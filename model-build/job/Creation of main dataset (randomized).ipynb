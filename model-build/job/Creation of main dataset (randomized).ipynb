{
 "cells": [
  {
   "cell_type": "markdown",
   "id": "731f8d5f",
   "metadata": {},
   "source": [
    "## Importing Basic Packages"
   ]
  },
  {
   "cell_type": "code",
   "execution_count": 34,
   "id": "a20f5387",
   "metadata": {},
   "outputs": [],
   "source": [
    "import pandas as pd\n",
    "import random\n",
    "import numpy as np\n",
    "import matplotlib.pyplot as plt"
   ]
  },
  {
   "cell_type": "markdown",
   "id": "dcb57611",
   "metadata": {},
   "source": [
    "## Importing Data "
   ]
  },
  {
   "cell_type": "code",
   "execution_count": 35,
   "id": "30819b5c",
   "metadata": {},
   "outputs": [],
   "source": [
    "states=pd.read_csv('states.csv')"
   ]
  },
  {
   "cell_type": "code",
   "execution_count": 36,
   "id": "5bc4b1ff",
   "metadata": {},
   "outputs": [],
   "source": [
    "states=list(states)"
   ]
  },
  {
   "cell_type": "code",
   "execution_count": 37,
   "id": "ae91a016",
   "metadata": {},
   "outputs": [],
   "source": [
    "locations=pd.read_csv('Locations.csv')"
   ]
  },
  {
   "cell_type": "code",
   "execution_count": 38,
   "id": "d4e452c4",
   "metadata": {},
   "outputs": [],
   "source": [
    "locations=list(locations)"
   ]
  },
  {
   "cell_type": "code",
   "execution_count": 39,
   "id": "140e0782",
   "metadata": {},
   "outputs": [],
   "source": [
    "jobs=pd.read_csv('jobs.csv')"
   ]
  },
  {
   "cell_type": "code",
   "execution_count": 40,
   "id": "1c1c99c8",
   "metadata": {},
   "outputs": [],
   "source": [
    "jobs=list(jobs)"
   ]
  },
  {
   "cell_type": "code",
   "execution_count": 41,
   "id": "d81b1e27",
   "metadata": {},
   "outputs": [],
   "source": [
    "regions=list(pd.read_csv('regions.csv'))"
   ]
  },
  {
   "cell_type": "code",
   "execution_count": 42,
   "id": "d6aaa58c",
   "metadata": {},
   "outputs": [],
   "source": [
    "branches=list(pd.read_csv('branches.csv'))"
   ]
  },
  {
   "cell_type": "markdown",
   "id": "7f8f2bcd",
   "metadata": {},
   "source": [
    "## Considering past 11 years"
   ]
  },
  {
   "cell_type": "code",
   "execution_count": 43,
   "id": "355cf655",
   "metadata": {},
   "outputs": [],
   "source": [
    "years=[2011,2012,2013,2014,2015,2016,2017,2018,2019,2020,2021]"
   ]
  },
  {
   "cell_type": "markdown",
   "id": "3cdacc0c",
   "metadata": {},
   "source": [
    "## Creation of randomised Dataset"
   ]
  },
  {
   "cell_type": "code",
   "execution_count": 44,
   "id": "e06851e9",
   "metadata": {},
   "outputs": [],
   "source": [
    "jobr=[]\n",
    "for i in range(9438):\n",
    "    x=random.randint(0,59)\n",
    "    jobr.append(jobs[x])"
   ]
  },
  {
   "cell_type": "code",
   "execution_count": 45,
   "id": "81c278fd",
   "metadata": {},
   "outputs": [],
   "source": [
    "locr=[]\n",
    "for i in range(9438):\n",
    "    x=random.randint(0,66)\n",
    "    locr.append(locations[x])"
   ]
  },
  {
   "cell_type": "code",
   "execution_count": 46,
   "id": "9e4512c1",
   "metadata": {},
   "outputs": [],
   "source": [
    "yearr=[]\n",
    "for i in range(9438):\n",
    "    x=random.randint(0,10)\n",
    "    yearr.append(years[x])"
   ]
  },
  {
   "cell_type": "code",
   "execution_count": 47,
   "id": "74304e5f",
   "metadata": {},
   "outputs": [],
   "source": [
    "data=pd.DataFrame(list(zip(yearr,jobr,locr)),columns =['YEAR','JOB_TITLE','JOB_LOCATION'])"
   ]
  },
  {
   "cell_type": "code",
   "execution_count": 48,
   "id": "8ecac119",
   "metadata": {},
   "outputs": [
    {
     "data": {
      "text/html": [
       "<div>\n",
       "<style scoped>\n",
       "    .dataframe tbody tr th:only-of-type {\n",
       "        vertical-align: middle;\n",
       "    }\n",
       "\n",
       "    .dataframe tbody tr th {\n",
       "        vertical-align: top;\n",
       "    }\n",
       "\n",
       "    .dataframe thead th {\n",
       "        text-align: right;\n",
       "    }\n",
       "</style>\n",
       "<table border=\"1\" class=\"dataframe\">\n",
       "  <thead>\n",
       "    <tr style=\"text-align: right;\">\n",
       "      <th></th>\n",
       "      <th>YEAR</th>\n",
       "      <th>JOB_TITLE</th>\n",
       "      <th>JOB_LOCATION</th>\n",
       "    </tr>\n",
       "  </thead>\n",
       "  <tbody>\n",
       "    <tr>\n",
       "      <th>0</th>\n",
       "      <td>2015</td>\n",
       "      <td>Field test engineer</td>\n",
       "      <td>Gaya</td>\n",
       "    </tr>\n",
       "    <tr>\n",
       "      <th>1</th>\n",
       "      <td>2018</td>\n",
       "      <td>Electrical project manager</td>\n",
       "      <td>Jamshedpur</td>\n",
       "    </tr>\n",
       "    <tr>\n",
       "      <th>2</th>\n",
       "      <td>2020</td>\n",
       "      <td>Management consultant</td>\n",
       "      <td>Surat</td>\n",
       "    </tr>\n",
       "    <tr>\n",
       "      <th>3</th>\n",
       "      <td>2013</td>\n",
       "      <td>Database administrator</td>\n",
       "      <td>Thiruvananthapuram</td>\n",
       "    </tr>\n",
       "    <tr>\n",
       "      <th>4</th>\n",
       "      <td>2016</td>\n",
       "      <td>Controls engineer</td>\n",
       "      <td>Allahabad</td>\n",
       "    </tr>\n",
       "    <tr>\n",
       "      <th>...</th>\n",
       "      <td>...</td>\n",
       "      <td>...</td>\n",
       "      <td>...</td>\n",
       "    </tr>\n",
       "    <tr>\n",
       "      <th>9433</th>\n",
       "      <td>2019</td>\n",
       "      <td>Telecommunication engineer</td>\n",
       "      <td>Surat</td>\n",
       "    </tr>\n",
       "    <tr>\n",
       "      <th>9434</th>\n",
       "      <td>2020</td>\n",
       "      <td>Production engineer</td>\n",
       "      <td>Rourkela</td>\n",
       "    </tr>\n",
       "    <tr>\n",
       "      <th>9435</th>\n",
       "      <td>2017</td>\n",
       "      <td>Product engineer</td>\n",
       "      <td>Udaipur</td>\n",
       "    </tr>\n",
       "    <tr>\n",
       "      <th>9436</th>\n",
       "      <td>2014</td>\n",
       "      <td>UX designer</td>\n",
       "      <td>Durgapur</td>\n",
       "    </tr>\n",
       "    <tr>\n",
       "      <th>9437</th>\n",
       "      <td>2015</td>\n",
       "      <td>Product designer</td>\n",
       "      <td>Dehradun</td>\n",
       "    </tr>\n",
       "  </tbody>\n",
       "</table>\n",
       "<p>9438 rows × 3 columns</p>\n",
       "</div>"
      ],
      "text/plain": [
       "      YEAR                   JOB_TITLE        JOB_LOCATION\n",
       "0     2015         Field test engineer                Gaya\n",
       "1     2018  Electrical project manager          Jamshedpur\n",
       "2     2020       Management consultant               Surat\n",
       "3     2013      Database administrator  Thiruvananthapuram\n",
       "4     2016           Controls engineer           Allahabad\n",
       "...    ...                         ...                 ...\n",
       "9433  2019  Telecommunication engineer               Surat\n",
       "9434  2020         Production engineer            Rourkela\n",
       "9435  2017            Product engineer             Udaipur\n",
       "9436  2014                 UX designer            Durgapur\n",
       "9437  2015            Product designer            Dehradun\n",
       "\n",
       "[9438 rows x 3 columns]"
      ]
     },
     "execution_count": 48,
     "metadata": {},
     "output_type": "execute_result"
    }
   ],
   "source": [
    "data"
   ]
  },
  {
   "cell_type": "code",
   "execution_count": 49,
   "id": "180cb2e6",
   "metadata": {},
   "outputs": [],
   "source": [
    "data.to_csv('main_dataset.csv')"
   ]
  },
  {
   "cell_type": "code",
   "execution_count": null,
   "id": "a9b1d7ed",
   "metadata": {},
   "outputs": [],
   "source": []
  }
 ],
 "metadata": {
  "kernelspec": {
   "display_name": "Python 3 (ipykernel)",
   "language": "python",
   "name": "python3"
  },
  "language_info": {
   "codemirror_mode": {
    "name": "ipython",
    "version": 3
   },
   "file_extension": ".py",
   "mimetype": "text/x-python",
   "name": "python",
   "nbconvert_exporter": "python",
   "pygments_lexer": "ipython3",
   "version": "3.9.7"
  }
 },
 "nbformat": 4,
 "nbformat_minor": 5
}
