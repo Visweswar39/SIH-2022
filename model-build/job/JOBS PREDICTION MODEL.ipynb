{
 "cells": [
  {
   "cell_type": "markdown",
   "id": "731f8d5f",
   "metadata": {},
   "source": [
    "## Importing Basic Packages"
   ]
  },
  {
   "cell_type": "code",
   "execution_count": 104,
   "id": "a20f5387",
   "metadata": {},
   "outputs": [],
   "source": [
    "import pandas as pd\n",
    "import random\n",
    "import numpy as np\n",
    "import pickle\n",
    "import matplotlib.pyplot as plt\n"
   ]
  },
  {
   "cell_type": "markdown",
   "id": "5e13e480",
   "metadata": {},
   "source": [
    "## Importing Data"
   ]
  },
  {
   "cell_type": "code",
   "execution_count": 105,
   "id": "6cdbb41a",
   "metadata": {},
   "outputs": [],
   "source": [
    "data=pd.read_csv('main_dataset.csv')"
   ]
  },
  {
   "cell_type": "code",
   "execution_count": 106,
   "id": "6db8eb09",
   "metadata": {},
   "outputs": [],
   "source": [
    "with open('jobrole_mapper.txt', 'rb') as handle:\n",
    "    dat = handle.read()\n",
    "o = pickle.loads(dat)"
   ]
  },
  {
   "cell_type": "code",
   "execution_count": 107,
   "id": "d3562798",
   "metadata": {},
   "outputs": [],
   "source": [
    "with open('location_mapper.txt', 'rb') as handle:\n",
    "    dat = handle.read()\n",
    "m = pickle.loads(dat)"
   ]
  },
  {
   "cell_type": "code",
   "execution_count": 108,
   "id": "69400b22",
   "metadata": {},
   "outputs": [],
   "source": [
    "with open('state_mapper.txt', 'rb') as handle:\n",
    "    dat = handle.read()\n",
    "n = pickle.loads(dat)"
   ]
  },
  {
   "cell_type": "markdown",
   "id": "9b098357",
   "metadata": {},
   "source": [
    "## Feature Extraction"
   ]
  },
  {
   "cell_type": "markdown",
   "id": "c0d18e0a",
   "metadata": {},
   "source": [
    "### Determination of Branches "
   ]
  },
  {
   "cell_type": "code",
   "execution_count": 109,
   "id": "a322746f",
   "metadata": {},
   "outputs": [],
   "source": [
    "branch=[]\n",
    "for c in data['JOB_TITLE']:\n",
    "    if c in o['cse']:\n",
    "        branch.append('CSE/IT')\n",
    "    elif c in o['ece']:\n",
    "        branch.append('ECE')\n",
    "    elif c in o['eee']:\n",
    "        branch.append('EEE')\n",
    "    elif c in o['mec']:\n",
    "        branch.append('MEC')\n",
    "    elif c in o['civ']:\n",
    "        branch.append('CIV')\n",
    "    else:\n",
    "        branch.append('CHEM')"
   ]
  },
  {
   "cell_type": "code",
   "execution_count": 110,
   "id": "1c476093",
   "metadata": {},
   "outputs": [],
   "source": [
    "data['BRANCH']=branch"
   ]
  },
  {
   "cell_type": "markdown",
   "id": "4c51cc7b",
   "metadata": {},
   "source": [
    "### Determination of States"
   ]
  },
  {
   "cell_type": "code",
   "execution_count": 111,
   "id": "b965af3d",
   "metadata": {},
   "outputs": [],
   "source": [
    "stater=[]\n",
    "for v in data['JOB_LOCATION']:\n",
    "    for w in m:\n",
    "        if v in m[w]:\n",
    "            stater.append(w)\n",
    "            break"
   ]
  },
  {
   "cell_type": "code",
   "execution_count": 112,
   "id": "2e4995af",
   "metadata": {},
   "outputs": [],
   "source": [
    "data['LOC_STATE']=stater"
   ]
  },
  {
   "cell_type": "markdown",
   "id": "d0e052fe",
   "metadata": {},
   "source": [
    "### Determination of Regions"
   ]
  },
  {
   "cell_type": "code",
   "execution_count": 113,
   "id": "039d5306",
   "metadata": {},
   "outputs": [],
   "source": [
    "regionr=[]\n",
    "for v in data['LOC_STATE']:\n",
    "    for w in n:\n",
    "        if v in n[w]:\n",
    "            regionr.append(w)\n",
    "            break"
   ]
  },
  {
   "cell_type": "code",
   "execution_count": 114,
   "id": "7d66cbb1",
   "metadata": {},
   "outputs": [],
   "source": [
    "data['LOC_REGION']=regionr"
   ]
  },
  {
   "cell_type": "code",
   "execution_count": 115,
   "id": "61cb347c",
   "metadata": {},
   "outputs": [],
   "source": [
    "data=data[['YEAR','JOB_TITLE','BRANCH','JOB_LOCATION','LOC_STATE','LOC_REGION']]"
   ]
  },
  {
   "cell_type": "code",
   "execution_count": 116,
   "id": "08f3fc22",
   "metadata": {},
   "outputs": [
    {
     "data": {
      "text/html": [
       "<div>\n",
       "<style scoped>\n",
       "    .dataframe tbody tr th:only-of-type {\n",
       "        vertical-align: middle;\n",
       "    }\n",
       "\n",
       "    .dataframe tbody tr th {\n",
       "        vertical-align: top;\n",
       "    }\n",
       "\n",
       "    .dataframe thead th {\n",
       "        text-align: right;\n",
       "    }\n",
       "</style>\n",
       "<table border=\"1\" class=\"dataframe\">\n",
       "  <thead>\n",
       "    <tr style=\"text-align: right;\">\n",
       "      <th></th>\n",
       "      <th>YEAR</th>\n",
       "      <th>JOB_TITLE</th>\n",
       "      <th>BRANCH</th>\n",
       "      <th>JOB_LOCATION</th>\n",
       "      <th>LOC_STATE</th>\n",
       "      <th>LOC_REGION</th>\n",
       "    </tr>\n",
       "  </thead>\n",
       "  <tbody>\n",
       "    <tr>\n",
       "      <th>0</th>\n",
       "      <td>2015</td>\n",
       "      <td>Field test engineer</td>\n",
       "      <td>ECE</td>\n",
       "      <td>Gaya</td>\n",
       "      <td>Bihar</td>\n",
       "      <td>Central</td>\n",
       "    </tr>\n",
       "    <tr>\n",
       "      <th>1</th>\n",
       "      <td>2018</td>\n",
       "      <td>Electrical project manager</td>\n",
       "      <td>EEE</td>\n",
       "      <td>Jamshedpur</td>\n",
       "      <td>Jharkhnad</td>\n",
       "      <td>Central</td>\n",
       "    </tr>\n",
       "    <tr>\n",
       "      <th>2</th>\n",
       "      <td>2020</td>\n",
       "      <td>Management consultant</td>\n",
       "      <td>MEC</td>\n",
       "      <td>Surat</td>\n",
       "      <td>Gujarat</td>\n",
       "      <td>West</td>\n",
       "    </tr>\n",
       "    <tr>\n",
       "      <th>3</th>\n",
       "      <td>2013</td>\n",
       "      <td>Database administrator</td>\n",
       "      <td>CSE/IT</td>\n",
       "      <td>Thiruvananthapuram</td>\n",
       "      <td>Kerala</td>\n",
       "      <td>South</td>\n",
       "    </tr>\n",
       "    <tr>\n",
       "      <th>4</th>\n",
       "      <td>2016</td>\n",
       "      <td>Controls engineer</td>\n",
       "      <td>EEE</td>\n",
       "      <td>Allahabad</td>\n",
       "      <td>Uttar Pradesh</td>\n",
       "      <td>North</td>\n",
       "    </tr>\n",
       "    <tr>\n",
       "      <th>...</th>\n",
       "      <td>...</td>\n",
       "      <td>...</td>\n",
       "      <td>...</td>\n",
       "      <td>...</td>\n",
       "      <td>...</td>\n",
       "      <td>...</td>\n",
       "    </tr>\n",
       "    <tr>\n",
       "      <th>9433</th>\n",
       "      <td>2019</td>\n",
       "      <td>Telecommunication engineer</td>\n",
       "      <td>EEE</td>\n",
       "      <td>Surat</td>\n",
       "      <td>Gujarat</td>\n",
       "      <td>West</td>\n",
       "    </tr>\n",
       "    <tr>\n",
       "      <th>9434</th>\n",
       "      <td>2020</td>\n",
       "      <td>Production engineer</td>\n",
       "      <td>MEC</td>\n",
       "      <td>Rourkela</td>\n",
       "      <td>Orissa</td>\n",
       "      <td>Central</td>\n",
       "    </tr>\n",
       "    <tr>\n",
       "      <th>9435</th>\n",
       "      <td>2017</td>\n",
       "      <td>Product engineer</td>\n",
       "      <td>CHEM</td>\n",
       "      <td>Udaipur</td>\n",
       "      <td>Rajasthan</td>\n",
       "      <td>West</td>\n",
       "    </tr>\n",
       "    <tr>\n",
       "      <th>9436</th>\n",
       "      <td>2014</td>\n",
       "      <td>UX designer</td>\n",
       "      <td>CSE/IT</td>\n",
       "      <td>Durgapur</td>\n",
       "      <td>West Bengal</td>\n",
       "      <td>East</td>\n",
       "    </tr>\n",
       "    <tr>\n",
       "      <th>9437</th>\n",
       "      <td>2015</td>\n",
       "      <td>Product designer</td>\n",
       "      <td>MEC</td>\n",
       "      <td>Dehradun</td>\n",
       "      <td>Uttarakhand</td>\n",
       "      <td>North</td>\n",
       "    </tr>\n",
       "  </tbody>\n",
       "</table>\n",
       "<p>9438 rows × 6 columns</p>\n",
       "</div>"
      ],
      "text/plain": [
       "      YEAR                   JOB_TITLE  BRANCH        JOB_LOCATION  \\\n",
       "0     2015         Field test engineer     ECE                Gaya   \n",
       "1     2018  Electrical project manager     EEE          Jamshedpur   \n",
       "2     2020       Management consultant     MEC               Surat   \n",
       "3     2013      Database administrator  CSE/IT  Thiruvananthapuram   \n",
       "4     2016           Controls engineer     EEE           Allahabad   \n",
       "...    ...                         ...     ...                 ...   \n",
       "9433  2019  Telecommunication engineer     EEE               Surat   \n",
       "9434  2020         Production engineer     MEC            Rourkela   \n",
       "9435  2017            Product engineer    CHEM             Udaipur   \n",
       "9436  2014                 UX designer  CSE/IT            Durgapur   \n",
       "9437  2015            Product designer     MEC            Dehradun   \n",
       "\n",
       "          LOC_STATE LOC_REGION  \n",
       "0             Bihar    Central  \n",
       "1         Jharkhnad    Central  \n",
       "2           Gujarat       West  \n",
       "3            Kerala      South  \n",
       "4     Uttar Pradesh      North  \n",
       "...             ...        ...  \n",
       "9433        Gujarat       West  \n",
       "9434         Orissa    Central  \n",
       "9435      Rajasthan       West  \n",
       "9436    West Bengal       East  \n",
       "9437    Uttarakhand      North  \n",
       "\n",
       "[9438 rows x 6 columns]"
      ]
     },
     "execution_count": 116,
     "metadata": {},
     "output_type": "execute_result"
    }
   ],
   "source": [
    "data"
   ]
  },
  {
   "cell_type": "markdown",
   "id": "a235c581",
   "metadata": {},
   "source": [
    "## Considering past 11 years"
   ]
  },
  {
   "cell_type": "code",
   "execution_count": 117,
   "id": "e78ac774",
   "metadata": {},
   "outputs": [],
   "source": [
    "years=[2011,2012,2013,2014,2015,2016,2017,2018,2019,2020,2021]"
   ]
  },
  {
   "cell_type": "markdown",
   "id": "a886da9f",
   "metadata": {},
   "source": [
    "## Considering next 5 years for prediction"
   ]
  },
  {
   "cell_type": "code",
   "execution_count": 118,
   "id": "aeee6d65",
   "metadata": {},
   "outputs": [],
   "source": [
    "x_pred=[2022,2023,2024,2025,2026]"
   ]
  },
  {
   "cell_type": "markdown",
   "id": "c4c5b927",
   "metadata": {},
   "source": [
    "## Importing queries"
   ]
  },
  {
   "cell_type": "code",
   "execution_count": 119,
   "id": "a773bf96",
   "metadata": {},
   "outputs": [],
   "source": [
    "query=pd.read_csv('queries.csv')"
   ]
  },
  {
   "cell_type": "code",
   "execution_count": 120,
   "id": "621a6afd",
   "metadata": {},
   "outputs": [],
   "source": [
    "query.drop(['Unnamed: 0'],axis=1,inplace=True)"
   ]
  },
  {
   "cell_type": "code",
   "execution_count": 121,
   "id": "f04f47a3",
   "metadata": {
    "collapsed": true
   },
   "outputs": [
    {
     "data": {
      "text/html": [
       "<div>\n",
       "<style scoped>\n",
       "    .dataframe tbody tr th:only-of-type {\n",
       "        vertical-align: middle;\n",
       "    }\n",
       "\n",
       "    .dataframe tbody tr th {\n",
       "        vertical-align: top;\n",
       "    }\n",
       "\n",
       "    .dataframe thead th {\n",
       "        text-align: right;\n",
       "    }\n",
       "</style>\n",
       "<table border=\"1\" class=\"dataframe\">\n",
       "  <thead>\n",
       "    <tr style=\"text-align: right;\">\n",
       "      <th></th>\n",
       "      <th>BRANCH</th>\n",
       "      <th>LOC_STATE</th>\n",
       "      <th>LOC_REGION</th>\n",
       "    </tr>\n",
       "  </thead>\n",
       "  <tbody>\n",
       "    <tr>\n",
       "      <th>0</th>\n",
       "      <td>CIV</td>\n",
       "      <td>Bihar</td>\n",
       "      <td>Central</td>\n",
       "    </tr>\n",
       "    <tr>\n",
       "      <th>1</th>\n",
       "      <td>CSE/IT</td>\n",
       "      <td>Uttarakhand</td>\n",
       "      <td>North</td>\n",
       "    </tr>\n",
       "    <tr>\n",
       "      <th>2</th>\n",
       "      <td>MEC</td>\n",
       "      <td>Telangana</td>\n",
       "      <td>South</td>\n",
       "    </tr>\n",
       "    <tr>\n",
       "      <th>3</th>\n",
       "      <td>MEC</td>\n",
       "      <td>Uttar Pradesh</td>\n",
       "      <td>North</td>\n",
       "    </tr>\n",
       "    <tr>\n",
       "      <th>4</th>\n",
       "      <td>CHEM</td>\n",
       "      <td>Goa</td>\n",
       "      <td>South</td>\n",
       "    </tr>\n",
       "    <tr>\n",
       "      <th>5</th>\n",
       "      <td>CHEM</td>\n",
       "      <td>Kerala</td>\n",
       "      <td>South</td>\n",
       "    </tr>\n",
       "    <tr>\n",
       "      <th>6</th>\n",
       "      <td>MEC</td>\n",
       "      <td>Jammu and Kashmir</td>\n",
       "      <td>North</td>\n",
       "    </tr>\n",
       "    <tr>\n",
       "      <th>7</th>\n",
       "      <td>CHEM</td>\n",
       "      <td>Andhra Pradesh</td>\n",
       "      <td>South</td>\n",
       "    </tr>\n",
       "    <tr>\n",
       "      <th>8</th>\n",
       "      <td>CIV</td>\n",
       "      <td>Gujarat</td>\n",
       "      <td>West</td>\n",
       "    </tr>\n",
       "    <tr>\n",
       "      <th>9</th>\n",
       "      <td>MEC</td>\n",
       "      <td>Bihar</td>\n",
       "      <td>Central</td>\n",
       "    </tr>\n",
       "    <tr>\n",
       "      <th>10</th>\n",
       "      <td>MEC</td>\n",
       "      <td>Jharkhnad</td>\n",
       "      <td>Central</td>\n",
       "    </tr>\n",
       "    <tr>\n",
       "      <th>11</th>\n",
       "      <td>CHEM</td>\n",
       "      <td>Telangana</td>\n",
       "      <td>South</td>\n",
       "    </tr>\n",
       "    <tr>\n",
       "      <th>12</th>\n",
       "      <td>CSE/IT</td>\n",
       "      <td>Himachal Pradesh</td>\n",
       "      <td>North</td>\n",
       "    </tr>\n",
       "    <tr>\n",
       "      <th>13</th>\n",
       "      <td>EEE</td>\n",
       "      <td>Rajasthan</td>\n",
       "      <td>West</td>\n",
       "    </tr>\n",
       "    <tr>\n",
       "      <th>14</th>\n",
       "      <td>ECE</td>\n",
       "      <td>Uttar Pradesh</td>\n",
       "      <td>North</td>\n",
       "    </tr>\n",
       "    <tr>\n",
       "      <th>15</th>\n",
       "      <td>CSE/IT</td>\n",
       "      <td>Rajasthan</td>\n",
       "      <td>West</td>\n",
       "    </tr>\n",
       "    <tr>\n",
       "      <th>16</th>\n",
       "      <td>CIV</td>\n",
       "      <td>Punjab</td>\n",
       "      <td>North</td>\n",
       "    </tr>\n",
       "    <tr>\n",
       "      <th>17</th>\n",
       "      <td>CIV</td>\n",
       "      <td>Karnataka</td>\n",
       "      <td>South</td>\n",
       "    </tr>\n",
       "    <tr>\n",
       "      <th>18</th>\n",
       "      <td>ECE</td>\n",
       "      <td>Telangana</td>\n",
       "      <td>South</td>\n",
       "    </tr>\n",
       "    <tr>\n",
       "      <th>19</th>\n",
       "      <td>CSE/IT</td>\n",
       "      <td>Gujarat</td>\n",
       "      <td>West</td>\n",
       "    </tr>\n",
       "    <tr>\n",
       "      <th>20</th>\n",
       "      <td>MEC</td>\n",
       "      <td>Kerala</td>\n",
       "      <td>South</td>\n",
       "    </tr>\n",
       "    <tr>\n",
       "      <th>21</th>\n",
       "      <td>CSE/IT</td>\n",
       "      <td>Orissa</td>\n",
       "      <td>Central</td>\n",
       "    </tr>\n",
       "    <tr>\n",
       "      <th>22</th>\n",
       "      <td>CHEM</td>\n",
       "      <td>Punjab</td>\n",
       "      <td>North</td>\n",
       "    </tr>\n",
       "    <tr>\n",
       "      <th>23</th>\n",
       "      <td>CIV</td>\n",
       "      <td>West Bengal</td>\n",
       "      <td>East</td>\n",
       "    </tr>\n",
       "    <tr>\n",
       "      <th>24</th>\n",
       "      <td>CIV</td>\n",
       "      <td>Tamil Nadu</td>\n",
       "      <td>South</td>\n",
       "    </tr>\n",
       "    <tr>\n",
       "      <th>25</th>\n",
       "      <td>CSE/IT</td>\n",
       "      <td>Punjab</td>\n",
       "      <td>North</td>\n",
       "    </tr>\n",
       "    <tr>\n",
       "      <th>26</th>\n",
       "      <td>ECE</td>\n",
       "      <td>Rajasthan</td>\n",
       "      <td>West</td>\n",
       "    </tr>\n",
       "    <tr>\n",
       "      <th>27</th>\n",
       "      <td>CHEM</td>\n",
       "      <td>Haryana</td>\n",
       "      <td>West</td>\n",
       "    </tr>\n",
       "    <tr>\n",
       "      <th>28</th>\n",
       "      <td>CHEM</td>\n",
       "      <td>Telangana</td>\n",
       "      <td>South</td>\n",
       "    </tr>\n",
       "    <tr>\n",
       "      <th>29</th>\n",
       "      <td>EEE</td>\n",
       "      <td>Jharkhnad</td>\n",
       "      <td>Central</td>\n",
       "    </tr>\n",
       "    <tr>\n",
       "      <th>30</th>\n",
       "      <td>ECE</td>\n",
       "      <td>Maharashtra</td>\n",
       "      <td>Central</td>\n",
       "    </tr>\n",
       "    <tr>\n",
       "      <th>31</th>\n",
       "      <td>CIV</td>\n",
       "      <td>Maharashtra</td>\n",
       "      <td>Central</td>\n",
       "    </tr>\n",
       "    <tr>\n",
       "      <th>32</th>\n",
       "      <td>CIV</td>\n",
       "      <td>Tamil Nadu</td>\n",
       "      <td>South</td>\n",
       "    </tr>\n",
       "    <tr>\n",
       "      <th>33</th>\n",
       "      <td>ECE</td>\n",
       "      <td>Telangana</td>\n",
       "      <td>South</td>\n",
       "    </tr>\n",
       "    <tr>\n",
       "      <th>34</th>\n",
       "      <td>CHEM</td>\n",
       "      <td>Orissa</td>\n",
       "      <td>Central</td>\n",
       "    </tr>\n",
       "    <tr>\n",
       "      <th>35</th>\n",
       "      <td>MEC</td>\n",
       "      <td>Maharashtra</td>\n",
       "      <td>Central</td>\n",
       "    </tr>\n",
       "    <tr>\n",
       "      <th>36</th>\n",
       "      <td>CIV</td>\n",
       "      <td>Madhya Pradesh</td>\n",
       "      <td>Central</td>\n",
       "    </tr>\n",
       "    <tr>\n",
       "      <th>37</th>\n",
       "      <td>EEE</td>\n",
       "      <td>Jharkhnad</td>\n",
       "      <td>Central</td>\n",
       "    </tr>\n",
       "    <tr>\n",
       "      <th>38</th>\n",
       "      <td>CHEM</td>\n",
       "      <td>Tamil Nadu</td>\n",
       "      <td>South</td>\n",
       "    </tr>\n",
       "    <tr>\n",
       "      <th>39</th>\n",
       "      <td>ECE</td>\n",
       "      <td>Rajasthan</td>\n",
       "      <td>West</td>\n",
       "    </tr>\n",
       "    <tr>\n",
       "      <th>40</th>\n",
       "      <td>CSE/IT</td>\n",
       "      <td>Rajasthan</td>\n",
       "      <td>West</td>\n",
       "    </tr>\n",
       "    <tr>\n",
       "      <th>41</th>\n",
       "      <td>ECE</td>\n",
       "      <td>Tamil Nadu</td>\n",
       "      <td>South</td>\n",
       "    </tr>\n",
       "    <tr>\n",
       "      <th>42</th>\n",
       "      <td>CSE/IT</td>\n",
       "      <td>Haryana</td>\n",
       "      <td>West</td>\n",
       "    </tr>\n",
       "    <tr>\n",
       "      <th>43</th>\n",
       "      <td>ECE</td>\n",
       "      <td>Tamil Nadu</td>\n",
       "      <td>South</td>\n",
       "    </tr>\n",
       "    <tr>\n",
       "      <th>44</th>\n",
       "      <td>CHEM</td>\n",
       "      <td>Bihar</td>\n",
       "      <td>Central</td>\n",
       "    </tr>\n",
       "    <tr>\n",
       "      <th>45</th>\n",
       "      <td>CIV</td>\n",
       "      <td>Uttar Pradesh</td>\n",
       "      <td>North</td>\n",
       "    </tr>\n",
       "    <tr>\n",
       "      <th>46</th>\n",
       "      <td>CHEM</td>\n",
       "      <td>Orissa</td>\n",
       "      <td>Central</td>\n",
       "    </tr>\n",
       "    <tr>\n",
       "      <th>47</th>\n",
       "      <td>MEC</td>\n",
       "      <td>Madhya Pradesh</td>\n",
       "      <td>Central</td>\n",
       "    </tr>\n",
       "    <tr>\n",
       "      <th>48</th>\n",
       "      <td>MEC</td>\n",
       "      <td>Andhra Pradesh</td>\n",
       "      <td>South</td>\n",
       "    </tr>\n",
       "    <tr>\n",
       "      <th>49</th>\n",
       "      <td>CIV</td>\n",
       "      <td>Chattisgarh</td>\n",
       "      <td>Central</td>\n",
       "    </tr>\n",
       "  </tbody>\n",
       "</table>\n",
       "</div>"
      ],
      "text/plain": [
       "    BRANCH          LOC_STATE LOC_REGION\n",
       "0      CIV              Bihar    Central\n",
       "1   CSE/IT        Uttarakhand      North\n",
       "2      MEC          Telangana      South\n",
       "3      MEC      Uttar Pradesh      North\n",
       "4     CHEM                Goa      South\n",
       "5     CHEM             Kerala      South\n",
       "6      MEC  Jammu and Kashmir      North\n",
       "7     CHEM     Andhra Pradesh      South\n",
       "8      CIV            Gujarat       West\n",
       "9      MEC              Bihar    Central\n",
       "10     MEC          Jharkhnad    Central\n",
       "11    CHEM          Telangana      South\n",
       "12  CSE/IT   Himachal Pradesh      North\n",
       "13     EEE          Rajasthan       West\n",
       "14     ECE      Uttar Pradesh      North\n",
       "15  CSE/IT          Rajasthan       West\n",
       "16     CIV             Punjab      North\n",
       "17     CIV          Karnataka      South\n",
       "18     ECE          Telangana      South\n",
       "19  CSE/IT            Gujarat       West\n",
       "20     MEC             Kerala      South\n",
       "21  CSE/IT             Orissa    Central\n",
       "22    CHEM             Punjab      North\n",
       "23     CIV        West Bengal       East\n",
       "24     CIV         Tamil Nadu      South\n",
       "25  CSE/IT             Punjab      North\n",
       "26     ECE          Rajasthan       West\n",
       "27    CHEM            Haryana       West\n",
       "28    CHEM          Telangana      South\n",
       "29     EEE          Jharkhnad    Central\n",
       "30     ECE        Maharashtra    Central\n",
       "31     CIV        Maharashtra    Central\n",
       "32     CIV         Tamil Nadu      South\n",
       "33     ECE          Telangana      South\n",
       "34    CHEM             Orissa    Central\n",
       "35     MEC        Maharashtra    Central\n",
       "36     CIV     Madhya Pradesh    Central\n",
       "37     EEE          Jharkhnad    Central\n",
       "38    CHEM         Tamil Nadu      South\n",
       "39     ECE          Rajasthan       West\n",
       "40  CSE/IT          Rajasthan       West\n",
       "41     ECE         Tamil Nadu      South\n",
       "42  CSE/IT            Haryana       West\n",
       "43     ECE         Tamil Nadu      South\n",
       "44    CHEM              Bihar    Central\n",
       "45     CIV      Uttar Pradesh      North\n",
       "46    CHEM             Orissa    Central\n",
       "47     MEC     Madhya Pradesh    Central\n",
       "48     MEC     Andhra Pradesh      South\n",
       "49     CIV        Chattisgarh    Central"
      ]
     },
     "execution_count": 121,
     "metadata": {},
     "output_type": "execute_result"
    }
   ],
   "source": [
    "query"
   ]
  },
  {
   "cell_type": "markdown",
   "id": "893c3e48",
   "metadata": {},
   "source": [
    "## Feature scaling"
   ]
  },
  {
   "cell_type": "code",
   "execution_count": 122,
   "id": "d655df10",
   "metadata": {},
   "outputs": [],
   "source": [
    "from sklearn.preprocessing import MinMaxScaler\n",
    "sc = MinMaxScaler(feature_range = (0,1))"
   ]
  },
  {
   "cell_type": "markdown",
   "id": "9ea954a8",
   "metadata": {},
   "source": [
    "## Generation of training dataset "
   ]
  },
  {
   "cell_type": "code",
   "execution_count": 123,
   "id": "912217fd",
   "metadata": {},
   "outputs": [],
   "source": [
    "train_x=[]\n",
    "train_y=[]"
   ]
  },
  {
   "cell_type": "code",
   "execution_count": 124,
   "id": "9d6e404b",
   "metadata": {},
   "outputs": [],
   "source": [
    "for index,row in query.iterrows():\n",
    "    y1=[]\n",
    "    x_train=[]\n",
    "    p=data.loc[(data['BRANCH']==row['BRANCH']) & (data['LOC_STATE']==row['LOC_STATE']) & (data['LOC_REGION']==row['LOC_REGION'])]\n",
    "    for i in years:\n",
    "        y=p.loc[p['YEAR']==i].shape[0]\n",
    "        y*=98\n",
    "        y1.append(y)\n",
    "    y1=np.array(y1[:8])\n",
    "    y1=y1.reshape(-1,1)\n",
    "    scaled = sc.fit_transform(y1)\n",
    "    for j in range(scaled.shape[0]-3):\n",
    "        x_train.append(scaled[j:j+3,])\n",
    "        train_y.append(scaled[j+3][0])\n",
    "    train_x.append(np.array(x_train))\n",
    "train_x=np.array(train_x)\n",
    "train_y=np.array(train_y)"
   ]
  },
  {
   "cell_type": "code",
   "execution_count": 125,
   "id": "96e43ed8",
   "metadata": {},
   "outputs": [],
   "source": [
    "train_x=train_x.reshape(250,3,1)"
   ]
  },
  {
   "cell_type": "markdown",
   "id": "27a5ab72",
   "metadata": {},
   "source": [
    "## Generation of test dataset"
   ]
  },
  {
   "cell_type": "code",
   "execution_count": 126,
   "id": "a40c4e69",
   "metadata": {},
   "outputs": [],
   "source": [
    "test_x=[]\n",
    "test_y=[]\n",
    "for index,row in query.iterrows():\n",
    "    y2=[]\n",
    "    x_test=[]\n",
    "    p=data.loc[(data['BRANCH']==row['BRANCH']) & (data['LOC_STATE']==row['LOC_STATE']) & (data['LOC_REGION']==row['LOC_REGION'])]\n",
    "    for i in years:\n",
    "        y=p.loc[p['YEAR']==i].shape[0]\n",
    "        y*=98\n",
    "        y2.append(y)\n",
    "    y2=np.array(y2[7:])\n",
    "    y2=y2.reshape(-1,1)\n",
    "    scaled2= sc.fit_transform(y2)\n",
    "    for j in range(scaled2.shape[0]-3):\n",
    "        x_test.append(scaled2[j:j+3,])\n",
    "        test_y.append(scaled2[j+3][0])\n",
    "    test_x.append(np.array(x_test))\n",
    "test_x=np.array(test_x)\n",
    "test_y=np.array(test_y)"
   ]
  },
  {
   "cell_type": "code",
   "execution_count": 127,
   "id": "7d501981",
   "metadata": {},
   "outputs": [],
   "source": [
    "test_x=test_x.reshape(test_x.shape[0],3,1)"
   ]
  },
  {
   "cell_type": "markdown",
   "id": "0719fdd7",
   "metadata": {},
   "source": [
    "## Model Building"
   ]
  },
  {
   "cell_type": "code",
   "execution_count": 128,
   "id": "5f5dd02a",
   "metadata": {},
   "outputs": [],
   "source": [
    "from keras.models import Sequential\n",
    "from keras.layers import Dense\n",
    "from keras.layers import LSTM\n",
    "from keras.layers import Dropout"
   ]
  },
  {
   "cell_type": "code",
   "execution_count": 129,
   "id": "9ac09486",
   "metadata": {},
   "outputs": [],
   "source": [
    "regressor = Sequential()"
   ]
  },
  {
   "cell_type": "code",
   "execution_count": 130,
   "id": "7d58610d",
   "metadata": {},
   "outputs": [],
   "source": [
    "regressor.add(LSTM(units = 50, return_sequences = True, input_shape = (train_x.shape[1], 1)))"
   ]
  },
  {
   "cell_type": "code",
   "execution_count": 131,
   "id": "780b18be",
   "metadata": {},
   "outputs": [],
   "source": [
    "regressor.add(Dropout(rate = 0.2))"
   ]
  },
  {
   "cell_type": "code",
   "execution_count": 132,
   "id": "c70f0f54",
   "metadata": {},
   "outputs": [],
   "source": [
    "regressor.add(LSTM(units = 50, return_sequences = True))\n",
    "regressor.add(Dropout(rate = 0.2))"
   ]
  },
  {
   "cell_type": "code",
   "execution_count": 133,
   "id": "c14b833e",
   "metadata": {},
   "outputs": [],
   "source": [
    "regressor.add(LSTM(units = 50, return_sequences = False))\n",
    "regressor.add(Dropout(rate = 0.2))"
   ]
  },
  {
   "cell_type": "code",
   "execution_count": 134,
   "id": "a714370e",
   "metadata": {},
   "outputs": [],
   "source": [
    "regressor.add(Dense(units = 1))"
   ]
  },
  {
   "cell_type": "markdown",
   "id": "3c9197c8",
   "metadata": {},
   "source": [
    "## Model Compilation"
   ]
  },
  {
   "cell_type": "code",
   "execution_count": 135,
   "id": "56b2c6b5",
   "metadata": {},
   "outputs": [],
   "source": [
    "regressor.compile(optimizer = 'adam', loss = 'mean_squared_error')"
   ]
  },
  {
   "cell_type": "markdown",
   "id": "07e01046",
   "metadata": {},
   "source": [
    "## Model Training"
   ]
  },
  {
   "cell_type": "code",
   "execution_count": 136,
   "id": "f1f407de",
   "metadata": {},
   "outputs": [
    {
     "name": "stdout",
     "output_type": "stream",
     "text": [
      "Epoch 1/50\n",
      "17/17 [==============================] - 25s 29ms/step - loss: 0.2736\n",
      "Epoch 2/50\n",
      "17/17 [==============================] - 0s 27ms/step - loss: 0.1404\n",
      "Epoch 3/50\n",
      "17/17 [==============================] - 0s 27ms/step - loss: 0.1371\n",
      "Epoch 4/50\n",
      "17/17 [==============================] - 0s 27ms/step - loss: 0.1323\n",
      "Epoch 5/50\n",
      "17/17 [==============================] - 0s 27ms/step - loss: 0.1343\n",
      "Epoch 6/50\n",
      "17/17 [==============================] - 0s 25ms/step - loss: 0.1346\n",
      "Epoch 7/50\n",
      "17/17 [==============================] - 0s 24ms/step - loss: 0.1341\n",
      "Epoch 8/50\n",
      "17/17 [==============================] - 0s 24ms/step - loss: 0.1307\n",
      "Epoch 9/50\n",
      "17/17 [==============================] - 0s 24ms/step - loss: 0.1334\n",
      "Epoch 10/50\n",
      "17/17 [==============================] - 0s 23ms/step - loss: 0.1321\n",
      "Epoch 11/50\n",
      "17/17 [==============================] - 0s 23ms/step - loss: 0.1305\n",
      "Epoch 12/50\n",
      "17/17 [==============================] - 0s 22ms/step - loss: 0.1359\n",
      "Epoch 13/50\n",
      "17/17 [==============================] - 0s 18ms/step - loss: 0.1377\n",
      "Epoch 14/50\n",
      "17/17 [==============================] - 0s 18ms/step - loss: 0.1333\n",
      "Epoch 15/50\n",
      "17/17 [==============================] - 0s 16ms/step - loss: 0.1351\n",
      "Epoch 16/50\n",
      "17/17 [==============================] - 0s 16ms/step - loss: 0.1340\n",
      "Epoch 17/50\n",
      "17/17 [==============================] - 0s 17ms/step - loss: 0.1307\n",
      "Epoch 18/50\n",
      "17/17 [==============================] - 0s 17ms/step - loss: 0.1312\n",
      "Epoch 19/50\n",
      "17/17 [==============================] - 0s 16ms/step - loss: 0.1331\n",
      "Epoch 20/50\n",
      "17/17 [==============================] - 0s 16ms/step - loss: 0.1351\n",
      "Epoch 21/50\n",
      "17/17 [==============================] - 0s 16ms/step - loss: 0.1363\n",
      "Epoch 22/50\n",
      "17/17 [==============================] - 0s 15ms/step - loss: 0.1359\n",
      "Epoch 23/50\n",
      "17/17 [==============================] - 0s 16ms/step - loss: 0.1318\n",
      "Epoch 24/50\n",
      "17/17 [==============================] - 0s 15ms/step - loss: 0.1332\n",
      "Epoch 25/50\n",
      "17/17 [==============================] - 0s 15ms/step - loss: 0.1309\n",
      "Epoch 26/50\n",
      "17/17 [==============================] - 0s 16ms/step - loss: 0.1333\n",
      "Epoch 27/50\n",
      "17/17 [==============================] - 0s 15ms/step - loss: 0.1331\n",
      "Epoch 28/50\n",
      "17/17 [==============================] - 0s 16ms/step - loss: 0.1327\n",
      "Epoch 29/50\n",
      "17/17 [==============================] - 0s 16ms/step - loss: 0.1337\n",
      "Epoch 30/50\n",
      "17/17 [==============================] - 0s 14ms/step - loss: 0.1375\n",
      "Epoch 31/50\n",
      "17/17 [==============================] - 0s 13ms/step - loss: 0.1302\n",
      "Epoch 32/50\n",
      "17/17 [==============================] - 0s 14ms/step - loss: 0.1339\n",
      "Epoch 33/50\n",
      "17/17 [==============================] - 0s 17ms/step - loss: 0.1362\n",
      "Epoch 34/50\n",
      "17/17 [==============================] - 0s 13ms/step - loss: 0.1320\n",
      "Epoch 35/50\n",
      "17/17 [==============================] - 0s 13ms/step - loss: 0.1299\n",
      "Epoch 36/50\n",
      "17/17 [==============================] - 0s 13ms/step - loss: 0.1335\n",
      "Epoch 37/50\n",
      "17/17 [==============================] - 0s 13ms/step - loss: 0.1313\n",
      "Epoch 38/50\n",
      "17/17 [==============================] - 0s 13ms/step - loss: 0.1320\n",
      "Epoch 39/50\n",
      "17/17 [==============================] - 0s 13ms/step - loss: 0.1335\n",
      "Epoch 40/50\n",
      "17/17 [==============================] - 0s 13ms/step - loss: 0.1309\n",
      "Epoch 41/50\n",
      "17/17 [==============================] - 0s 13ms/step - loss: 0.1301\n",
      "Epoch 42/50\n",
      "17/17 [==============================] - 0s 16ms/step - loss: 0.1324\n",
      "Epoch 43/50\n",
      "17/17 [==============================] - 0s 16ms/step - loss: 0.1331\n",
      "Epoch 44/50\n",
      "17/17 [==============================] - 0s 15ms/step - loss: 0.1341\n",
      "Epoch 45/50\n",
      "17/17 [==============================] - 0s 14ms/step - loss: 0.1324\n",
      "Epoch 46/50\n",
      "17/17 [==============================] - 0s 13ms/step - loss: 0.1297\n",
      "Epoch 47/50\n",
      "17/17 [==============================] - 0s 13ms/step - loss: 0.1307\n",
      "Epoch 48/50\n",
      "17/17 [==============================] - 0s 12ms/step - loss: 0.1319\n",
      "Epoch 49/50\n",
      "17/17 [==============================] - 0s 12ms/step - loss: 0.1343\n",
      "Epoch 50/50\n",
      "17/17 [==============================] - 0s 12ms/step - loss: 0.1318\n"
     ]
    },
    {
     "data": {
      "text/plain": [
       "<keras.callbacks.History at 0x286e337bbe0>"
      ]
     },
     "execution_count": 136,
     "metadata": {},
     "output_type": "execute_result"
    }
   ],
   "source": [
    "regressor.fit(x = train_x, y = train_y, batch_size = 15, epochs = 50)"
   ]
  },
  {
   "cell_type": "markdown",
   "id": "30dbf3a4",
   "metadata": {},
   "source": [
    "## Model Prediction"
   ]
  },
  {
   "cell_type": "code",
   "execution_count": 137,
   "id": "572a91bc",
   "metadata": {},
   "outputs": [
    {
     "name": "stdout",
     "output_type": "stream",
     "text": [
      "2/2 [==============================] - 4s 15ms/step\n"
     ]
    }
   ],
   "source": [
    "predicted_y = regressor.predict(test_x)"
   ]
  },
  {
   "cell_type": "markdown",
   "id": "016ede75",
   "metadata": {},
   "source": [
    "## Model Evaluation"
   ]
  },
  {
   "cell_type": "code",
   "execution_count": 138,
   "id": "3d5a4d8a",
   "metadata": {},
   "outputs": [],
   "source": [
    "from sklearn.metrics import mean_absolute_error,mean_squared_error,r2_score"
   ]
  },
  {
   "cell_type": "code",
   "execution_count": 139,
   "id": "8f8a9e62",
   "metadata": {},
   "outputs": [
    {
     "name": "stdout",
     "output_type": "stream",
     "text": [
      "mae= 0.3718202179594645\n",
      "mse= 0.1717399762458659\n",
      "r2_score= 0.017955136722942355\n"
     ]
    }
   ],
   "source": [
    "print('mae=',mean_absolute_error(test_y,predicted_y))\n",
    "print('mse=',mean_squared_error(test_y,predicted_y))\n",
    "print('r2_score=',r2_score(test_y,predicted_y))"
   ]
  },
  {
   "cell_type": "markdown",
   "id": "efc4709d",
   "metadata": {},
   "source": [
    "## Inverse Scaling to get actual values"
   ]
  },
  {
   "cell_type": "code",
   "execution_count": 140,
   "id": "7e9ebf2b",
   "metadata": {},
   "outputs": [],
   "source": [
    "trans_y = sc.inverse_transform(predicted_y)"
   ]
  },
  {
   "cell_type": "code",
   "execution_count": 141,
   "id": "cff990a7",
   "metadata": {},
   "outputs": [],
   "source": [
    "trans_y.dtype=int"
   ]
  },
  {
   "cell_type": "markdown",
   "id": "60739b63",
   "metadata": {},
   "source": [
    "## Function to produce output based on user's queries"
   ]
  },
  {
   "cell_type": "code",
   "execution_count": 142,
   "id": "9bd7bb5e",
   "metadata": {},
   "outputs": [],
   "source": [
    "def final(region,state,course):\n",
    "    u=data.loc[(data['BRANCH']==course) & (data['LOC_STATE']==state) & (data['LOC_REGION']==region)]\n",
    "    o=[]\n",
    "    for i in years:\n",
    "        y=u.loc[u['YEAR']==i].shape[0]\n",
    "        o.append(y*98) \n",
    "    h=[]\n",
    "    for i in range(5):\n",
    "        f=np.array(o[-3:],dtype='object')\n",
    "        f=f.reshape(-1,1)\n",
    "        scaled_f= sc.fit_transform(f)\n",
    "        scaled_f=scaled_f.reshape(1,3,1)\n",
    "        predicted_f= regressor.predict(scaled_f)\n",
    "        bhu=sc.inverse_transform(predicted_f)\n",
    "        h.append(int(bhu))\n",
    "        o.append(int(bhu))\n",
    "        h=list(h)\n",
    "    fig= plt.figure()\n",
    "    fig.set_figwidth(10)\n",
    "    fig.set_figheight(5)\n",
    "    plt.plot(years,o[:-5])\n",
    "    plt.plot(x_pred,h)\n",
    "    plt.xticks(years+x_pred,years+x_pred)\n",
    "    plt.show()"
   ]
  },
  {
   "cell_type": "code",
   "execution_count": 145,
   "id": "877e6007",
   "metadata": {},
   "outputs": [
    {
     "name": "stdout",
     "output_type": "stream",
     "text": [
      "1/1 [==============================] - 0s 75ms/step\n",
      "1/1 [==============================] - 0s 66ms/step\n",
      "1/1 [==============================] - 0s 65ms/step\n",
      "1/1 [==============================] - 0s 69ms/step\n",
      "1/1 [==============================] - 0s 85ms/step\n"
     ]
    },
    {
     "data": {
      "image/png": "[encoded data removed]",
      "text/plain": [
       "<Figure size 720x360 with 1 Axes>"
      ]
     },
     "metadata": {
      "needs_background": "light"
     },
     "output_type": "display_data"
    }
   ],
   "source": [
    "final('South','Goa','MEC')"
   ]
  },
  {
   "cell_type": "code",
   "execution_count": null,
   "id": "1c60c5ad",
   "metadata": {},
   "outputs": [],
   "source": []
  }
 ],
 "metadata": {
  "kernelspec": {
   "display_name": "Python 3 (ipykernel)",
   "language": "python",
   "name": "python3"
  },
  "language_info": {
   "codemirror_mode": {
    "name": "ipython",
    "version": 3
   },
   "file_extension": ".py",
   "mimetype": "text/x-python",
   "name": "python",
   "nbconvert_exporter": "python",
   "pygments_lexer": "ipython3",
   "version": "3.9.7"
  }
 },
 "nbformat": 4,
 "nbformat_minor": 5
}
